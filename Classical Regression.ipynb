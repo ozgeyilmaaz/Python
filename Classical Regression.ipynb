{
 "cells": [
  {
   "cell_type": "markdown",
   "id": "fde41957",
   "metadata": {},
   "source": [
    "# CLASSICAL REGRESSION - Stepwise"
   ]
  },
  {
   "cell_type": "code",
   "execution_count": 1,
   "id": "26faebee",
   "metadata": {},
   "outputs": [
    {
     "data": {
      "text/html": [
       "<div>\n",
       "<style scoped>\n",
       "    .dataframe tbody tr th:only-of-type {\n",
       "        vertical-align: middle;\n",
       "    }\n",
       "\n",
       "    .dataframe tbody tr th {\n",
       "        vertical-align: top;\n",
       "    }\n",
       "\n",
       "    .dataframe thead th {\n",
       "        text-align: right;\n",
       "    }\n",
       "</style>\n",
       "<table border=\"1\" class=\"dataframe\">\n",
       "  <thead>\n",
       "    <tr style=\"text-align: right;\">\n",
       "      <th></th>\n",
       "      <th>fixed acidity</th>\n",
       "      <th>volatile acidity</th>\n",
       "      <th>citric acid</th>\n",
       "      <th>residual sugar</th>\n",
       "      <th>chlorides</th>\n",
       "      <th>free sulfur dioxide</th>\n",
       "      <th>total sulfur dioxide</th>\n",
       "      <th>density</th>\n",
       "      <th>pH</th>\n",
       "      <th>sulphates</th>\n",
       "      <th>alcohol</th>\n",
       "      <th>quality</th>\n",
       "      <th>type</th>\n",
       "    </tr>\n",
       "  </thead>\n",
       "  <tbody>\n",
       "    <tr>\n",
       "      <th>0</th>\n",
       "      <td>7.4</td>\n",
       "      <td>0.70</td>\n",
       "      <td>0.00</td>\n",
       "      <td>1.9</td>\n",
       "      <td>0.076</td>\n",
       "      <td>11.0</td>\n",
       "      <td>34.0</td>\n",
       "      <td>0.99780</td>\n",
       "      <td>3.51</td>\n",
       "      <td>0.56</td>\n",
       "      <td>9.4</td>\n",
       "      <td>5</td>\n",
       "      <td>red</td>\n",
       "    </tr>\n",
       "    <tr>\n",
       "      <th>1</th>\n",
       "      <td>7.8</td>\n",
       "      <td>0.88</td>\n",
       "      <td>0.00</td>\n",
       "      <td>2.6</td>\n",
       "      <td>0.098</td>\n",
       "      <td>25.0</td>\n",
       "      <td>67.0</td>\n",
       "      <td>0.99680</td>\n",
       "      <td>3.20</td>\n",
       "      <td>0.68</td>\n",
       "      <td>9.8</td>\n",
       "      <td>5</td>\n",
       "      <td>red</td>\n",
       "    </tr>\n",
       "    <tr>\n",
       "      <th>2</th>\n",
       "      <td>7.8</td>\n",
       "      <td>0.76</td>\n",
       "      <td>0.04</td>\n",
       "      <td>2.3</td>\n",
       "      <td>0.092</td>\n",
       "      <td>15.0</td>\n",
       "      <td>54.0</td>\n",
       "      <td>0.99700</td>\n",
       "      <td>3.26</td>\n",
       "      <td>0.65</td>\n",
       "      <td>9.8</td>\n",
       "      <td>5</td>\n",
       "      <td>red</td>\n",
       "    </tr>\n",
       "    <tr>\n",
       "      <th>3</th>\n",
       "      <td>11.2</td>\n",
       "      <td>0.28</td>\n",
       "      <td>0.56</td>\n",
       "      <td>1.9</td>\n",
       "      <td>0.075</td>\n",
       "      <td>17.0</td>\n",
       "      <td>60.0</td>\n",
       "      <td>0.99800</td>\n",
       "      <td>3.16</td>\n",
       "      <td>0.58</td>\n",
       "      <td>9.8</td>\n",
       "      <td>6</td>\n",
       "      <td>red</td>\n",
       "    </tr>\n",
       "    <tr>\n",
       "      <th>4</th>\n",
       "      <td>7.4</td>\n",
       "      <td>0.70</td>\n",
       "      <td>0.00</td>\n",
       "      <td>1.9</td>\n",
       "      <td>0.076</td>\n",
       "      <td>11.0</td>\n",
       "      <td>34.0</td>\n",
       "      <td>0.99780</td>\n",
       "      <td>3.51</td>\n",
       "      <td>0.56</td>\n",
       "      <td>9.4</td>\n",
       "      <td>5</td>\n",
       "      <td>red</td>\n",
       "    </tr>\n",
       "    <tr>\n",
       "      <th>...</th>\n",
       "      <td>...</td>\n",
       "      <td>...</td>\n",
       "      <td>...</td>\n",
       "      <td>...</td>\n",
       "      <td>...</td>\n",
       "      <td>...</td>\n",
       "      <td>...</td>\n",
       "      <td>...</td>\n",
       "      <td>...</td>\n",
       "      <td>...</td>\n",
       "      <td>...</td>\n",
       "      <td>...</td>\n",
       "      <td>...</td>\n",
       "    </tr>\n",
       "    <tr>\n",
       "      <th>6492</th>\n",
       "      <td>6.2</td>\n",
       "      <td>0.21</td>\n",
       "      <td>0.29</td>\n",
       "      <td>1.6</td>\n",
       "      <td>0.039</td>\n",
       "      <td>24.0</td>\n",
       "      <td>92.0</td>\n",
       "      <td>0.99114</td>\n",
       "      <td>3.27</td>\n",
       "      <td>0.50</td>\n",
       "      <td>11.2</td>\n",
       "      <td>6</td>\n",
       "      <td>white</td>\n",
       "    </tr>\n",
       "    <tr>\n",
       "      <th>6493</th>\n",
       "      <td>6.6</td>\n",
       "      <td>0.32</td>\n",
       "      <td>0.36</td>\n",
       "      <td>8.0</td>\n",
       "      <td>0.047</td>\n",
       "      <td>57.0</td>\n",
       "      <td>168.0</td>\n",
       "      <td>0.99490</td>\n",
       "      <td>3.15</td>\n",
       "      <td>0.46</td>\n",
       "      <td>9.6</td>\n",
       "      <td>5</td>\n",
       "      <td>white</td>\n",
       "    </tr>\n",
       "    <tr>\n",
       "      <th>6494</th>\n",
       "      <td>6.5</td>\n",
       "      <td>0.24</td>\n",
       "      <td>0.19</td>\n",
       "      <td>1.2</td>\n",
       "      <td>0.041</td>\n",
       "      <td>30.0</td>\n",
       "      <td>111.0</td>\n",
       "      <td>0.99254</td>\n",
       "      <td>2.99</td>\n",
       "      <td>0.46</td>\n",
       "      <td>9.4</td>\n",
       "      <td>6</td>\n",
       "      <td>white</td>\n",
       "    </tr>\n",
       "    <tr>\n",
       "      <th>6495</th>\n",
       "      <td>5.5</td>\n",
       "      <td>0.29</td>\n",
       "      <td>0.30</td>\n",
       "      <td>1.1</td>\n",
       "      <td>0.022</td>\n",
       "      <td>20.0</td>\n",
       "      <td>110.0</td>\n",
       "      <td>0.98869</td>\n",
       "      <td>3.34</td>\n",
       "      <td>0.38</td>\n",
       "      <td>12.8</td>\n",
       "      <td>7</td>\n",
       "      <td>white</td>\n",
       "    </tr>\n",
       "    <tr>\n",
       "      <th>6496</th>\n",
       "      <td>6.0</td>\n",
       "      <td>0.21</td>\n",
       "      <td>0.38</td>\n",
       "      <td>0.8</td>\n",
       "      <td>0.020</td>\n",
       "      <td>22.0</td>\n",
       "      <td>98.0</td>\n",
       "      <td>0.98941</td>\n",
       "      <td>3.26</td>\n",
       "      <td>0.32</td>\n",
       "      <td>11.8</td>\n",
       "      <td>6</td>\n",
       "      <td>white</td>\n",
       "    </tr>\n",
       "  </tbody>\n",
       "</table>\n",
       "<p>6497 rows × 13 columns</p>\n",
       "</div>"
      ],
      "text/plain": [
       "      fixed acidity  volatile acidity  citric acid  residual sugar  chlorides  \\\n",
       "0               7.4              0.70         0.00             1.9      0.076   \n",
       "1               7.8              0.88         0.00             2.6      0.098   \n",
       "2               7.8              0.76         0.04             2.3      0.092   \n",
       "3              11.2              0.28         0.56             1.9      0.075   \n",
       "4               7.4              0.70         0.00             1.9      0.076   \n",
       "...             ...               ...          ...             ...        ...   \n",
       "6492            6.2              0.21         0.29             1.6      0.039   \n",
       "6493            6.6              0.32         0.36             8.0      0.047   \n",
       "6494            6.5              0.24         0.19             1.2      0.041   \n",
       "6495            5.5              0.29         0.30             1.1      0.022   \n",
       "6496            6.0              0.21         0.38             0.8      0.020   \n",
       "\n",
       "      free sulfur dioxide  total sulfur dioxide  density    pH  sulphates  \\\n",
       "0                    11.0                  34.0  0.99780  3.51       0.56   \n",
       "1                    25.0                  67.0  0.99680  3.20       0.68   \n",
       "2                    15.0                  54.0  0.99700  3.26       0.65   \n",
       "3                    17.0                  60.0  0.99800  3.16       0.58   \n",
       "4                    11.0                  34.0  0.99780  3.51       0.56   \n",
       "...                   ...                   ...      ...   ...        ...   \n",
       "6492                 24.0                  92.0  0.99114  3.27       0.50   \n",
       "6493                 57.0                 168.0  0.99490  3.15       0.46   \n",
       "6494                 30.0                 111.0  0.99254  2.99       0.46   \n",
       "6495                 20.0                 110.0  0.98869  3.34       0.38   \n",
       "6496                 22.0                  98.0  0.98941  3.26       0.32   \n",
       "\n",
       "      alcohol  quality   type  \n",
       "0         9.4        5    red  \n",
       "1         9.8        5    red  \n",
       "2         9.8        5    red  \n",
       "3         9.8        6    red  \n",
       "4         9.4        5    red  \n",
       "...       ...      ...    ...  \n",
       "6492     11.2        6  white  \n",
       "6493      9.6        5  white  \n",
       "6494      9.4        6  white  \n",
       "6495     12.8        7  white  \n",
       "6496     11.8        6  white  \n",
       "\n",
       "[6497 rows x 13 columns]"
      ]
     },
     "execution_count": 1,
     "metadata": {},
     "output_type": "execute_result"
    }
   ],
   "source": [
    "import pandas as pd\n",
    "import numpy as np\n",
    "data = pd.read_csv(\"Classical Regression Data.csv\")\n",
    "data"
   ]
  },
  {
   "cell_type": "markdown",
   "id": "3a01cfce",
   "metadata": {},
   "source": [
    "### A dummy is created for red and white wine."
   ]
  },
  {
   "cell_type": "code",
   "execution_count": 428,
   "id": "b672fe45",
   "metadata": {},
   "outputs": [
    {
     "data": {
      "text/html": [
       "<div>\n",
       "<style scoped>\n",
       "    .dataframe tbody tr th:only-of-type {\n",
       "        vertical-align: middle;\n",
       "    }\n",
       "\n",
       "    .dataframe tbody tr th {\n",
       "        vertical-align: top;\n",
       "    }\n",
       "\n",
       "    .dataframe thead th {\n",
       "        text-align: right;\n",
       "    }\n",
       "</style>\n",
       "<table border=\"1\" class=\"dataframe\">\n",
       "  <thead>\n",
       "    <tr style=\"text-align: right;\">\n",
       "      <th></th>\n",
       "      <th>fixed acidity</th>\n",
       "      <th>volatile acidity</th>\n",
       "      <th>citric acid</th>\n",
       "      <th>residual sugar</th>\n",
       "      <th>chlorides</th>\n",
       "      <th>free sulfur dioxide</th>\n",
       "      <th>total sulfur dioxide</th>\n",
       "      <th>density</th>\n",
       "      <th>pH</th>\n",
       "      <th>sulphates</th>\n",
       "      <th>alcohol</th>\n",
       "      <th>quality</th>\n",
       "      <th>type</th>\n",
       "      <th>red</th>\n",
       "    </tr>\n",
       "  </thead>\n",
       "  <tbody>\n",
       "    <tr>\n",
       "      <th>0</th>\n",
       "      <td>7.4</td>\n",
       "      <td>0.70</td>\n",
       "      <td>0.00</td>\n",
       "      <td>1.9</td>\n",
       "      <td>0.076</td>\n",
       "      <td>11.0</td>\n",
       "      <td>34.0</td>\n",
       "      <td>0.99780</td>\n",
       "      <td>3.51</td>\n",
       "      <td>0.56</td>\n",
       "      <td>9.4</td>\n",
       "      <td>5</td>\n",
       "      <td>red</td>\n",
       "      <td>1</td>\n",
       "    </tr>\n",
       "    <tr>\n",
       "      <th>1</th>\n",
       "      <td>7.8</td>\n",
       "      <td>0.88</td>\n",
       "      <td>0.00</td>\n",
       "      <td>2.6</td>\n",
       "      <td>0.098</td>\n",
       "      <td>25.0</td>\n",
       "      <td>67.0</td>\n",
       "      <td>0.99680</td>\n",
       "      <td>3.20</td>\n",
       "      <td>0.68</td>\n",
       "      <td>9.8</td>\n",
       "      <td>5</td>\n",
       "      <td>red</td>\n",
       "      <td>1</td>\n",
       "    </tr>\n",
       "    <tr>\n",
       "      <th>2</th>\n",
       "      <td>7.8</td>\n",
       "      <td>0.76</td>\n",
       "      <td>0.04</td>\n",
       "      <td>2.3</td>\n",
       "      <td>0.092</td>\n",
       "      <td>15.0</td>\n",
       "      <td>54.0</td>\n",
       "      <td>0.99700</td>\n",
       "      <td>3.26</td>\n",
       "      <td>0.65</td>\n",
       "      <td>9.8</td>\n",
       "      <td>5</td>\n",
       "      <td>red</td>\n",
       "      <td>1</td>\n",
       "    </tr>\n",
       "    <tr>\n",
       "      <th>3</th>\n",
       "      <td>11.2</td>\n",
       "      <td>0.28</td>\n",
       "      <td>0.56</td>\n",
       "      <td>1.9</td>\n",
       "      <td>0.075</td>\n",
       "      <td>17.0</td>\n",
       "      <td>60.0</td>\n",
       "      <td>0.99800</td>\n",
       "      <td>3.16</td>\n",
       "      <td>0.58</td>\n",
       "      <td>9.8</td>\n",
       "      <td>6</td>\n",
       "      <td>red</td>\n",
       "      <td>1</td>\n",
       "    </tr>\n",
       "    <tr>\n",
       "      <th>4</th>\n",
       "      <td>7.4</td>\n",
       "      <td>0.70</td>\n",
       "      <td>0.00</td>\n",
       "      <td>1.9</td>\n",
       "      <td>0.076</td>\n",
       "      <td>11.0</td>\n",
       "      <td>34.0</td>\n",
       "      <td>0.99780</td>\n",
       "      <td>3.51</td>\n",
       "      <td>0.56</td>\n",
       "      <td>9.4</td>\n",
       "      <td>5</td>\n",
       "      <td>red</td>\n",
       "      <td>1</td>\n",
       "    </tr>\n",
       "    <tr>\n",
       "      <th>...</th>\n",
       "      <td>...</td>\n",
       "      <td>...</td>\n",
       "      <td>...</td>\n",
       "      <td>...</td>\n",
       "      <td>...</td>\n",
       "      <td>...</td>\n",
       "      <td>...</td>\n",
       "      <td>...</td>\n",
       "      <td>...</td>\n",
       "      <td>...</td>\n",
       "      <td>...</td>\n",
       "      <td>...</td>\n",
       "      <td>...</td>\n",
       "      <td>...</td>\n",
       "    </tr>\n",
       "    <tr>\n",
       "      <th>6492</th>\n",
       "      <td>6.2</td>\n",
       "      <td>0.21</td>\n",
       "      <td>0.29</td>\n",
       "      <td>1.6</td>\n",
       "      <td>0.039</td>\n",
       "      <td>24.0</td>\n",
       "      <td>92.0</td>\n",
       "      <td>0.99114</td>\n",
       "      <td>3.27</td>\n",
       "      <td>0.50</td>\n",
       "      <td>11.2</td>\n",
       "      <td>6</td>\n",
       "      <td>white</td>\n",
       "      <td>0</td>\n",
       "    </tr>\n",
       "    <tr>\n",
       "      <th>6493</th>\n",
       "      <td>6.6</td>\n",
       "      <td>0.32</td>\n",
       "      <td>0.36</td>\n",
       "      <td>8.0</td>\n",
       "      <td>0.047</td>\n",
       "      <td>57.0</td>\n",
       "      <td>168.0</td>\n",
       "      <td>0.99490</td>\n",
       "      <td>3.15</td>\n",
       "      <td>0.46</td>\n",
       "      <td>9.6</td>\n",
       "      <td>5</td>\n",
       "      <td>white</td>\n",
       "      <td>0</td>\n",
       "    </tr>\n",
       "    <tr>\n",
       "      <th>6494</th>\n",
       "      <td>6.5</td>\n",
       "      <td>0.24</td>\n",
       "      <td>0.19</td>\n",
       "      <td>1.2</td>\n",
       "      <td>0.041</td>\n",
       "      <td>30.0</td>\n",
       "      <td>111.0</td>\n",
       "      <td>0.99254</td>\n",
       "      <td>2.99</td>\n",
       "      <td>0.46</td>\n",
       "      <td>9.4</td>\n",
       "      <td>6</td>\n",
       "      <td>white</td>\n",
       "      <td>0</td>\n",
       "    </tr>\n",
       "    <tr>\n",
       "      <th>6495</th>\n",
       "      <td>5.5</td>\n",
       "      <td>0.29</td>\n",
       "      <td>0.30</td>\n",
       "      <td>1.1</td>\n",
       "      <td>0.022</td>\n",
       "      <td>20.0</td>\n",
       "      <td>110.0</td>\n",
       "      <td>0.98869</td>\n",
       "      <td>3.34</td>\n",
       "      <td>0.38</td>\n",
       "      <td>12.8</td>\n",
       "      <td>7</td>\n",
       "      <td>white</td>\n",
       "      <td>0</td>\n",
       "    </tr>\n",
       "    <tr>\n",
       "      <th>6496</th>\n",
       "      <td>6.0</td>\n",
       "      <td>0.21</td>\n",
       "      <td>0.38</td>\n",
       "      <td>0.8</td>\n",
       "      <td>0.020</td>\n",
       "      <td>22.0</td>\n",
       "      <td>98.0</td>\n",
       "      <td>0.98941</td>\n",
       "      <td>3.26</td>\n",
       "      <td>0.32</td>\n",
       "      <td>11.8</td>\n",
       "      <td>6</td>\n",
       "      <td>white</td>\n",
       "      <td>0</td>\n",
       "    </tr>\n",
       "  </tbody>\n",
       "</table>\n",
       "<p>6497 rows × 14 columns</p>\n",
       "</div>"
      ],
      "text/plain": [
       "      fixed acidity  volatile acidity  citric acid  residual sugar  chlorides  \\\n",
       "0               7.4              0.70         0.00             1.9      0.076   \n",
       "1               7.8              0.88         0.00             2.6      0.098   \n",
       "2               7.8              0.76         0.04             2.3      0.092   \n",
       "3              11.2              0.28         0.56             1.9      0.075   \n",
       "4               7.4              0.70         0.00             1.9      0.076   \n",
       "...             ...               ...          ...             ...        ...   \n",
       "6492            6.2              0.21         0.29             1.6      0.039   \n",
       "6493            6.6              0.32         0.36             8.0      0.047   \n",
       "6494            6.5              0.24         0.19             1.2      0.041   \n",
       "6495            5.5              0.29         0.30             1.1      0.022   \n",
       "6496            6.0              0.21         0.38             0.8      0.020   \n",
       "\n",
       "      free sulfur dioxide  total sulfur dioxide  density    pH  sulphates  \\\n",
       "0                    11.0                  34.0  0.99780  3.51       0.56   \n",
       "1                    25.0                  67.0  0.99680  3.20       0.68   \n",
       "2                    15.0                  54.0  0.99700  3.26       0.65   \n",
       "3                    17.0                  60.0  0.99800  3.16       0.58   \n",
       "4                    11.0                  34.0  0.99780  3.51       0.56   \n",
       "...                   ...                   ...      ...   ...        ...   \n",
       "6492                 24.0                  92.0  0.99114  3.27       0.50   \n",
       "6493                 57.0                 168.0  0.99490  3.15       0.46   \n",
       "6494                 30.0                 111.0  0.99254  2.99       0.46   \n",
       "6495                 20.0                 110.0  0.98869  3.34       0.38   \n",
       "6496                 22.0                  98.0  0.98941  3.26       0.32   \n",
       "\n",
       "      alcohol  quality   type  red  \n",
       "0         9.4        5    red    1  \n",
       "1         9.8        5    red    1  \n",
       "2         9.8        5    red    1  \n",
       "3         9.8        6    red    1  \n",
       "4         9.4        5    red    1  \n",
       "...       ...      ...    ...  ...  \n",
       "6492     11.2        6  white    0  \n",
       "6493      9.6        5  white    0  \n",
       "6494      9.4        6  white    0  \n",
       "6495     12.8        7  white    0  \n",
       "6496     11.8        6  white    0  \n",
       "\n",
       "[6497 rows x 14 columns]"
      ]
     },
     "execution_count": 428,
     "metadata": {},
     "output_type": "execute_result"
    }
   ],
   "source": [
    "data[\"red\"]=np.where(data[\"type\"].str.contains(\"red\"), 1, 0)\n",
    "data"
   ]
  },
  {
   "cell_type": "markdown",
   "id": "a63d8fab",
   "metadata": {},
   "source": [
    "### Below, X represents our independent variables and y represents our dependent variable. B0 value is added to X with sm.add_constant(X)."
   ]
  },
  {
   "cell_type": "code",
   "execution_count": 429,
   "id": "ddb7f335",
   "metadata": {},
   "outputs": [
    {
     "data": {
      "text/html": [
       "<table class=\"simpletable\">\n",
       "<caption>OLS Regression Results</caption>\n",
       "<tr>\n",
       "  <th>Dep. Variable:</th>         <td>alcohol</td>     <th>  R-squared:         </th> <td>   0.826</td>\n",
       "</tr>\n",
       "<tr>\n",
       "  <th>Model:</th>                   <td>OLS</td>       <th>  Adj. R-squared:    </th> <td>   0.826</td>\n",
       "</tr>\n",
       "<tr>\n",
       "  <th>Method:</th>             <td>Least Squares</td>  <th>  F-statistic:       </th> <td>   2566.</td>\n",
       "</tr>\n",
       "<tr>\n",
       "  <th>Date:</th>             <td>Mon, 08 Nov 2021</td> <th>  Prob (F-statistic):</th>  <td>  0.00</td> \n",
       "</tr>\n",
       "<tr>\n",
       "  <th>Time:</th>                 <td>23:23:04</td>     <th>  Log-Likelihood:    </th> <td> -4682.0</td>\n",
       "</tr>\n",
       "<tr>\n",
       "  <th>No. Observations:</th>      <td>  6497</td>      <th>  AIC:               </th> <td>   9390.</td>\n",
       "</tr>\n",
       "<tr>\n",
       "  <th>Df Residuals:</th>          <td>  6484</td>      <th>  BIC:               </th> <td>   9478.</td>\n",
       "</tr>\n",
       "<tr>\n",
       "  <th>Df Model:</th>              <td>    12</td>      <th>                     </th>     <td> </td>   \n",
       "</tr>\n",
       "<tr>\n",
       "  <th>Covariance Type:</th>      <td>nonrobust</td>    <th>                     </th>     <td> </td>   \n",
       "</tr>\n",
       "</table>\n",
       "<table class=\"simpletable\">\n",
       "<tr>\n",
       "            <td></td>              <th>coef</th>     <th>std err</th>      <th>t</th>      <th>P>|t|</th>  <th>[0.025</th>    <th>0.975]</th>  \n",
       "</tr>\n",
       "<tr>\n",
       "  <th>const</th>                <td>  648.3559</td> <td>    5.265</td> <td>  123.143</td> <td> 0.000</td> <td>  638.035</td> <td>  658.677</td>\n",
       "</tr>\n",
       "<tr>\n",
       "  <th>fixed acidity</th>        <td>    0.5221</td> <td>    0.009</td> <td>   61.053</td> <td> 0.000</td> <td>    0.505</td> <td>    0.539</td>\n",
       "</tr>\n",
       "<tr>\n",
       "  <th>volatile acidity</th>     <td>    0.7886</td> <td>    0.056</td> <td>   14.128</td> <td> 0.000</td> <td>    0.679</td> <td>    0.898</td>\n",
       "</tr>\n",
       "<tr>\n",
       "  <th>citric acid</th>          <td>    0.5263</td> <td>    0.054</td> <td>    9.790</td> <td> 0.000</td> <td>    0.421</td> <td>    0.632</td>\n",
       "</tr>\n",
       "<tr>\n",
       "  <th>residual sugar</th>       <td>    0.2285</td> <td>    0.003</td> <td>   78.534</td> <td> 0.000</td> <td>    0.223</td> <td>    0.234</td>\n",
       "</tr>\n",
       "<tr>\n",
       "  <th>chlorides</th>            <td>   -0.9119</td> <td>    0.227</td> <td>   -4.018</td> <td> 0.000</td> <td>   -1.357</td> <td>   -0.467</td>\n",
       "</tr>\n",
       "<tr>\n",
       "  <th>free sulfur dioxide</th>  <td>   -0.0034</td> <td>    0.001</td> <td>   -6.522</td> <td> 0.000</td> <td>   -0.004</td> <td>   -0.002</td>\n",
       "</tr>\n",
       "<tr>\n",
       "  <th>total sulfur dioxide</th> <td>   -0.0001</td> <td>    0.000</td> <td>   -0.455</td> <td> 0.649</td> <td>   -0.001</td> <td>    0.000</td>\n",
       "</tr>\n",
       "<tr>\n",
       "  <th>density</th>              <td> -656.4257</td> <td>    5.397</td> <td> -121.636</td> <td> 0.000</td> <td> -667.005</td> <td> -645.847</td>\n",
       "</tr>\n",
       "<tr>\n",
       "  <th>pH</th>                   <td>    2.6073</td> <td>    0.052</td> <td>   49.681</td> <td> 0.000</td> <td>    2.504</td> <td>    2.710</td>\n",
       "</tr>\n",
       "<tr>\n",
       "  <th>sulphates</th>            <td>    0.9958</td> <td>    0.051</td> <td>   19.659</td> <td> 0.000</td> <td>    0.897</td> <td>    1.095</td>\n",
       "</tr>\n",
       "<tr>\n",
       "  <th>quality</th>              <td>    0.1027</td> <td>    0.008</td> <td>   12.320</td> <td> 0.000</td> <td>    0.086</td> <td>    0.119</td>\n",
       "</tr>\n",
       "<tr>\n",
       "  <th>red</th>                  <td>    1.1457</td> <td>    0.036</td> <td>   31.865</td> <td> 0.000</td> <td>    1.075</td> <td>    1.216</td>\n",
       "</tr>\n",
       "</table>\n",
       "<table class=\"simpletable\">\n",
       "<tr>\n",
       "  <th>Omnibus:</th>       <td>7170.847</td> <th>  Durbin-Watson:     </th>  <td>   1.639</td>  \n",
       "</tr>\n",
       "<tr>\n",
       "  <th>Prob(Omnibus):</th>  <td> 0.000</td>  <th>  Jarque-Bera (JB):  </th> <td>4894876.870</td>\n",
       "</tr>\n",
       "<tr>\n",
       "  <th>Skew:</th>           <td> 4.848</td>  <th>  Prob(JB):          </th>  <td>    0.00</td>  \n",
       "</tr>\n",
       "<tr>\n",
       "  <th>Kurtosis:</th>       <td>137.118</td> <th>  Cond. No.          </th>  <td>1.63e+05</td>  \n",
       "</tr>\n",
       "</table><br/><br/>Notes:<br/>[1] Standard Errors assume that the covariance matrix of the errors is correctly specified.<br/>[2] The condition number is large, 1.63e+05. This might indicate that there are<br/>strong multicollinearity or other numerical problems."
      ],
      "text/plain": [
       "<class 'statsmodels.iolib.summary.Summary'>\n",
       "\"\"\"\n",
       "                            OLS Regression Results                            \n",
       "==============================================================================\n",
       "Dep. Variable:                alcohol   R-squared:                       0.826\n",
       "Model:                            OLS   Adj. R-squared:                  0.826\n",
       "Method:                 Least Squares   F-statistic:                     2566.\n",
       "Date:                Mon, 08 Nov 2021   Prob (F-statistic):               0.00\n",
       "Time:                        23:23:04   Log-Likelihood:                -4682.0\n",
       "No. Observations:                6497   AIC:                             9390.\n",
       "Df Residuals:                    6484   BIC:                             9478.\n",
       "Df Model:                          12                                         \n",
       "Covariance Type:            nonrobust                                         \n",
       "========================================================================================\n",
       "                           coef    std err          t      P>|t|      [0.025      0.975]\n",
       "----------------------------------------------------------------------------------------\n",
       "const                  648.3559      5.265    123.143      0.000     638.035     658.677\n",
       "fixed acidity            0.5221      0.009     61.053      0.000       0.505       0.539\n",
       "volatile acidity         0.7886      0.056     14.128      0.000       0.679       0.898\n",
       "citric acid              0.5263      0.054      9.790      0.000       0.421       0.632\n",
       "residual sugar           0.2285      0.003     78.534      0.000       0.223       0.234\n",
       "chlorides               -0.9119      0.227     -4.018      0.000      -1.357      -0.467\n",
       "free sulfur dioxide     -0.0034      0.001     -6.522      0.000      -0.004      -0.002\n",
       "total sulfur dioxide    -0.0001      0.000     -0.455      0.649      -0.001       0.000\n",
       "density               -656.4257      5.397   -121.636      0.000    -667.005    -645.847\n",
       "pH                       2.6073      0.052     49.681      0.000       2.504       2.710\n",
       "sulphates                0.9958      0.051     19.659      0.000       0.897       1.095\n",
       "quality                  0.1027      0.008     12.320      0.000       0.086       0.119\n",
       "red                      1.1457      0.036     31.865      0.000       1.075       1.216\n",
       "==============================================================================\n",
       "Omnibus:                     7170.847   Durbin-Watson:                   1.639\n",
       "Prob(Omnibus):                  0.000   Jarque-Bera (JB):          4894876.870\n",
       "Skew:                           4.848   Prob(JB):                         0.00\n",
       "Kurtosis:                     137.118   Cond. No.                     1.63e+05\n",
       "==============================================================================\n",
       "\n",
       "Notes:\n",
       "[1] Standard Errors assume that the covariance matrix of the errors is correctly specified.\n",
       "[2] The condition number is large, 1.63e+05. This might indicate that there are\n",
       "strong multicollinearity or other numerical problems.\n",
       "\"\"\""
      ]
     },
     "execution_count": 429,
     "metadata": {},
     "output_type": "execute_result"
    }
   ],
   "source": [
    "import statsmodels.api as sm\n",
    "X = data.loc[:,[\"fixed acidity\",\"volatile acidity\",\"citric acid\",\"residual sugar\",\"chlorides\",\"free sulfur dioxide\",\"total sulfur dioxide\",\"density\",\"pH\",\"sulphates\",\"quality\",\"red\"]]\n",
    "X = sm.add_constant(X)\n",
    "y = data[\"alcohol\"]\n",
    "lm = sm.OLS(y,X)\n",
    "model = lm.fit()\n",
    "model.summary()"
   ]
  },
  {
   "cell_type": "markdown",
   "id": "2d352d8c",
   "metadata": {},
   "source": [
    "### R^2 = 0.826. It means that 82.6% of the dependent variable y can be explained by the independent variables X. \n",
    "### When we make a hypothesis that H0: All betas = 0, Prob(F-statistic) = 0 means that we reject this H0 hypothesis. This tells that there are x values that are significiant.\n",
    "### The coef represent the coefficients of independent variables. If this is divided by the standard error, t is obtained.\n",
    "### By looking at this output, the largest data with p>=0.05 is extracted step by step. There is only one value greater than 0.05 here. And that's total sulfur dioxide. Therefore, we remove total sulfur dioxide from the data."
   ]
  },
  {
   "cell_type": "code",
   "execution_count": 430,
   "id": "cdb0b8e8",
   "metadata": {},
   "outputs": [
    {
     "data": {
      "text/html": [
       "<table class=\"simpletable\">\n",
       "<caption>OLS Regression Results</caption>\n",
       "<tr>\n",
       "  <th>Dep. Variable:</th>         <td>alcohol</td>     <th>  R-squared:         </th> <td>   0.826</td>\n",
       "</tr>\n",
       "<tr>\n",
       "  <th>Model:</th>                   <td>OLS</td>       <th>  Adj. R-squared:    </th> <td>   0.826</td>\n",
       "</tr>\n",
       "<tr>\n",
       "  <th>Method:</th>             <td>Least Squares</td>  <th>  F-statistic:       </th> <td>   2799.</td>\n",
       "</tr>\n",
       "<tr>\n",
       "  <th>Date:</th>             <td>Mon, 08 Nov 2021</td> <th>  Prob (F-statistic):</th>  <td>  0.00</td> \n",
       "</tr>\n",
       "<tr>\n",
       "  <th>Time:</th>                 <td>23:23:04</td>     <th>  Log-Likelihood:    </th> <td> -4682.1</td>\n",
       "</tr>\n",
       "<tr>\n",
       "  <th>No. Observations:</th>      <td>  6497</td>      <th>  AIC:               </th> <td>   9388.</td>\n",
       "</tr>\n",
       "<tr>\n",
       "  <th>Df Residuals:</th>          <td>  6485</td>      <th>  BIC:               </th> <td>   9469.</td>\n",
       "</tr>\n",
       "<tr>\n",
       "  <th>Df Model:</th>              <td>    11</td>      <th>                     </th>     <td> </td>   \n",
       "</tr>\n",
       "<tr>\n",
       "  <th>Covariance Type:</th>      <td>nonrobust</td>    <th>                     </th>     <td> </td>   \n",
       "</tr>\n",
       "</table>\n",
       "<table class=\"simpletable\">\n",
       "<tr>\n",
       "           <td></td>              <th>coef</th>     <th>std err</th>      <th>t</th>      <th>P>|t|</th>  <th>[0.025</th>    <th>0.975]</th>  \n",
       "</tr>\n",
       "<tr>\n",
       "  <th>const</th>               <td>  649.0097</td> <td>    5.065</td> <td>  128.141</td> <td> 0.000</td> <td>  639.081</td> <td>  658.938</td>\n",
       "</tr>\n",
       "<tr>\n",
       "  <th>fixed acidity</th>       <td>    0.5225</td> <td>    0.008</td> <td>   61.545</td> <td> 0.000</td> <td>    0.506</td> <td>    0.539</td>\n",
       "</tr>\n",
       "<tr>\n",
       "  <th>volatile acidity</th>    <td>    0.7847</td> <td>    0.055</td> <td>   14.230</td> <td> 0.000</td> <td>    0.677</td> <td>    0.893</td>\n",
       "</tr>\n",
       "<tr>\n",
       "  <th>citric acid</th>         <td>    0.5240</td> <td>    0.054</td> <td>    9.792</td> <td> 0.000</td> <td>    0.419</td> <td>    0.629</td>\n",
       "</tr>\n",
       "<tr>\n",
       "  <th>residual sugar</th>      <td>    0.2287</td> <td>    0.003</td> <td>   79.050</td> <td> 0.000</td> <td>    0.223</td> <td>    0.234</td>\n",
       "</tr>\n",
       "<tr>\n",
       "  <th>chlorides</th>           <td>   -0.9086</td> <td>    0.227</td> <td>   -4.005</td> <td> 0.000</td> <td>   -1.353</td> <td>   -0.464</td>\n",
       "</tr>\n",
       "<tr>\n",
       "  <th>free sulfur dioxide</th> <td>   -0.0035</td> <td>    0.000</td> <td>   -8.410</td> <td> 0.000</td> <td>   -0.004</td> <td>   -0.003</td>\n",
       "</tr>\n",
       "<tr>\n",
       "  <th>density</th>             <td> -657.0981</td> <td>    5.190</td> <td> -126.611</td> <td> 0.000</td> <td> -667.272</td> <td> -646.924</td>\n",
       "</tr>\n",
       "<tr>\n",
       "  <th>pH</th>                  <td>    2.6082</td> <td>    0.052</td> <td>   49.741</td> <td> 0.000</td> <td>    2.505</td> <td>    2.711</td>\n",
       "</tr>\n",
       "<tr>\n",
       "  <th>sulphates</th>           <td>    0.9940</td> <td>    0.050</td> <td>   19.685</td> <td> 0.000</td> <td>    0.895</td> <td>    1.093</td>\n",
       "</tr>\n",
       "<tr>\n",
       "  <th>quality</th>             <td>    0.1029</td> <td>    0.008</td> <td>   12.365</td> <td> 0.000</td> <td>    0.087</td> <td>    0.119</td>\n",
       "</tr>\n",
       "<tr>\n",
       "  <th>red</th>                 <td>    1.1548</td> <td>    0.030</td> <td>   38.707</td> <td> 0.000</td> <td>    1.096</td> <td>    1.213</td>\n",
       "</tr>\n",
       "</table>\n",
       "<table class=\"simpletable\">\n",
       "<tr>\n",
       "  <th>Omnibus:</th>       <td>7185.696</td> <th>  Durbin-Watson:     </th>  <td>   1.639</td>  \n",
       "</tr>\n",
       "<tr>\n",
       "  <th>Prob(Omnibus):</th>  <td> 0.000</td>  <th>  Jarque-Bera (JB):  </th> <td>4942627.487</td>\n",
       "</tr>\n",
       "<tr>\n",
       "  <th>Skew:</th>           <td> 4.866</td>  <th>  Prob(JB):          </th>  <td>    0.00</td>  \n",
       "</tr>\n",
       "<tr>\n",
       "  <th>Kurtosis:</th>       <td>137.772</td> <th>  Cond. No.          </th>  <td>4.32e+04</td>  \n",
       "</tr>\n",
       "</table><br/><br/>Notes:<br/>[1] Standard Errors assume that the covariance matrix of the errors is correctly specified.<br/>[2] The condition number is large, 4.32e+04. This might indicate that there are<br/>strong multicollinearity or other numerical problems."
      ],
      "text/plain": [
       "<class 'statsmodels.iolib.summary.Summary'>\n",
       "\"\"\"\n",
       "                            OLS Regression Results                            \n",
       "==============================================================================\n",
       "Dep. Variable:                alcohol   R-squared:                       0.826\n",
       "Model:                            OLS   Adj. R-squared:                  0.826\n",
       "Method:                 Least Squares   F-statistic:                     2799.\n",
       "Date:                Mon, 08 Nov 2021   Prob (F-statistic):               0.00\n",
       "Time:                        23:23:04   Log-Likelihood:                -4682.1\n",
       "No. Observations:                6497   AIC:                             9388.\n",
       "Df Residuals:                    6485   BIC:                             9469.\n",
       "Df Model:                          11                                         \n",
       "Covariance Type:            nonrobust                                         \n",
       "=======================================================================================\n",
       "                          coef    std err          t      P>|t|      [0.025      0.975]\n",
       "---------------------------------------------------------------------------------------\n",
       "const                 649.0097      5.065    128.141      0.000     639.081     658.938\n",
       "fixed acidity           0.5225      0.008     61.545      0.000       0.506       0.539\n",
       "volatile acidity        0.7847      0.055     14.230      0.000       0.677       0.893\n",
       "citric acid             0.5240      0.054      9.792      0.000       0.419       0.629\n",
       "residual sugar          0.2287      0.003     79.050      0.000       0.223       0.234\n",
       "chlorides              -0.9086      0.227     -4.005      0.000      -1.353      -0.464\n",
       "free sulfur dioxide    -0.0035      0.000     -8.410      0.000      -0.004      -0.003\n",
       "density              -657.0981      5.190   -126.611      0.000    -667.272    -646.924\n",
       "pH                      2.6082      0.052     49.741      0.000       2.505       2.711\n",
       "sulphates               0.9940      0.050     19.685      0.000       0.895       1.093\n",
       "quality                 0.1029      0.008     12.365      0.000       0.087       0.119\n",
       "red                     1.1548      0.030     38.707      0.000       1.096       1.213\n",
       "==============================================================================\n",
       "Omnibus:                     7185.696   Durbin-Watson:                   1.639\n",
       "Prob(Omnibus):                  0.000   Jarque-Bera (JB):          4942627.487\n",
       "Skew:                           4.866   Prob(JB):                         0.00\n",
       "Kurtosis:                     137.772   Cond. No.                     4.32e+04\n",
       "==============================================================================\n",
       "\n",
       "Notes:\n",
       "[1] Standard Errors assume that the covariance matrix of the errors is correctly specified.\n",
       "[2] The condition number is large, 4.32e+04. This might indicate that there are\n",
       "strong multicollinearity or other numerical problems.\n",
       "\"\"\""
      ]
     },
     "execution_count": 430,
     "metadata": {},
     "output_type": "execute_result"
    }
   ],
   "source": [
    "X = data.loc[:,[\"fixed acidity\",\"volatile acidity\",\"citric acid\",\"residual sugar\",\"chlorides\",\"free sulfur dioxide\",\"density\",\"pH\",\"sulphates\",\"quality\",\"red\"]]\n",
    "X = sm.add_constant(X)\n",
    "y = data[\"alcohol\"]\n",
    "lm = sm.OLS(y,X)\n",
    "model = lm.fit()\n",
    "model.summary()"
   ]
  },
  {
   "cell_type": "markdown",
   "id": "faed6e5e",
   "metadata": {},
   "source": [
    "### There is no other value with a p-value greater than 0.05. So we can stop here."
   ]
  },
  {
   "cell_type": "markdown",
   "id": "fa5e55c2",
   "metadata": {},
   "source": [
    "# FINDING VIF'S\n",
    "\n",
    "### By calculating the VIF's, we look at whether there is a multicollinearity or not. We exclude the variable with a VIF value greater than 5."
   ]
  },
  {
   "cell_type": "code",
   "execution_count": 431,
   "id": "244e2b36",
   "metadata": {},
   "outputs": [
    {
     "name": "stdout",
     "output_type": "stream",
     "text": [
      "                 feature            VIF\n",
      "0                  const  726421.652070\n",
      "1          fixed acidity       3.219951\n",
      "2       volatile acidity       2.212586\n",
      "3            citric acid       1.598672\n",
      "4         residual sugar       5.022089\n",
      "5              chlorides       1.656529\n",
      "6    free sulfur dioxide       2.235345\n",
      "7   total sulfur dioxide       4.057487\n",
      "8                density       6.861487\n",
      "9                     pH       1.865609\n",
      "10             sulphates       1.488582\n",
      "11               quality       1.389019\n",
      "12                   red       6.285361\n"
     ]
    }
   ],
   "source": [
    "X = data.loc[:,[\"fixed acidity\",\"volatile acidity\",\"citric acid\",\"residual sugar\",\"chlorides\",\"free sulfur dioxide\",\"total sulfur dioxide\",\"density\",\"pH\",\"sulphates\",\"quality\",\"red\"]]\n",
    "X = sm.add_constant(X)\n",
    "from statsmodels.stats.outliers_influence import variance_inflation_factor\n",
    "vif_data = pd.DataFrame() \n",
    "vif_data[\"feature\"] = X.columns                                                         \n",
    "vif_data[\"VIF\"] = [variance_inflation_factor(X.values, i) \n",
    "                          for i in range(len(X.columns))] \n",
    "\n",
    "print(vif_data)"
   ]
  },
  {
   "cell_type": "markdown",
   "id": "634ebf86",
   "metadata": {},
   "source": [
    "### Density's VIF is greater than five, so we're subtracting it. Red is also greater than 5, but we do not subtract it because red is a categorical value."
   ]
  },
  {
   "cell_type": "code",
   "execution_count": 432,
   "id": "c9d5d8f4",
   "metadata": {},
   "outputs": [
    {
     "data": {
      "text/html": [
       "<table class=\"simpletable\">\n",
       "<caption>OLS Regression Results</caption>\n",
       "<tr>\n",
       "  <th>Dep. Variable:</th>         <td>alcohol</td>     <th>  R-squared:         </th> <td>   0.429</td> \n",
       "</tr>\n",
       "<tr>\n",
       "  <th>Model:</th>                   <td>OLS</td>       <th>  Adj. R-squared:    </th> <td>   0.428</td> \n",
       "</tr>\n",
       "<tr>\n",
       "  <th>Method:</th>             <td>Least Squares</td>  <th>  F-statistic:       </th> <td>   443.1</td> \n",
       "</tr>\n",
       "<tr>\n",
       "  <th>Date:</th>             <td>Mon, 08 Nov 2021</td> <th>  Prob (F-statistic):</th>  <td>  0.00</td>  \n",
       "</tr>\n",
       "<tr>\n",
       "  <th>Time:</th>                 <td>23:23:05</td>     <th>  Log-Likelihood:    </th> <td> -8542.5</td> \n",
       "</tr>\n",
       "<tr>\n",
       "  <th>No. Observations:</th>      <td>  6497</td>      <th>  AIC:               </th> <td>1.711e+04</td>\n",
       "</tr>\n",
       "<tr>\n",
       "  <th>Df Residuals:</th>          <td>  6485</td>      <th>  BIC:               </th> <td>1.719e+04</td>\n",
       "</tr>\n",
       "<tr>\n",
       "  <th>Df Model:</th>              <td>    11</td>      <th>                     </th>     <td> </td>    \n",
       "</tr>\n",
       "<tr>\n",
       "  <th>Covariance Type:</th>      <td>nonrobust</td>    <th>                     </th>     <td> </td>    \n",
       "</tr>\n",
       "</table>\n",
       "<table class=\"simpletable\">\n",
       "<tr>\n",
       "            <td></td>              <th>coef</th>     <th>std err</th>      <th>t</th>      <th>P>|t|</th>  <th>[0.025</th>    <th>0.975]</th>  \n",
       "</tr>\n",
       "<tr>\n",
       "  <th>const</th>                <td>    8.3439</td> <td>    0.341</td> <td>   24.442</td> <td> 0.000</td> <td>    7.675</td> <td>    9.013</td>\n",
       "</tr>\n",
       "<tr>\n",
       "  <th>fixed acidity</th>        <td>   -0.0767</td> <td>    0.013</td> <td>   -6.055</td> <td> 0.000</td> <td>   -0.102</td> <td>   -0.052</td>\n",
       "</tr>\n",
       "<tr>\n",
       "  <th>volatile acidity</th>     <td>    1.4561</td> <td>    0.101</td> <td>   14.471</td> <td> 0.000</td> <td>    1.259</td> <td>    1.653</td>\n",
       "</tr>\n",
       "<tr>\n",
       "  <th>citric acid</th>          <td>    1.0363</td> <td>    0.097</td> <td>   10.676</td> <td> 0.000</td> <td>    0.846</td> <td>    1.227</td>\n",
       "</tr>\n",
       "<tr>\n",
       "  <th>residual sugar</th>       <td>   -0.0726</td> <td>    0.003</td> <td>  -26.208</td> <td> 0.000</td> <td>   -0.078</td> <td>   -0.067</td>\n",
       "</tr>\n",
       "<tr>\n",
       "  <th>chlorides</th>            <td>   -7.9402</td> <td>    0.398</td> <td>  -19.971</td> <td> 0.000</td> <td>   -8.720</td> <td>   -7.161</td>\n",
       "</tr>\n",
       "<tr>\n",
       "  <th>free sulfur dioxide</th>  <td>    0.0017</td> <td>    0.001</td> <td>    1.778</td> <td> 0.075</td> <td>   -0.000</td> <td>    0.004</td>\n",
       "</tr>\n",
       "<tr>\n",
       "  <th>total sulfur dioxide</th> <td>   -0.0074</td> <td>    0.000</td> <td>  -19.386</td> <td> 0.000</td> <td>   -0.008</td> <td>   -0.007</td>\n",
       "</tr>\n",
       "<tr>\n",
       "  <th>pH</th>                   <td>    0.1914</td> <td>    0.088</td> <td>    2.176</td> <td> 0.030</td> <td>    0.019</td> <td>    0.364</td>\n",
       "</tr>\n",
       "<tr>\n",
       "  <th>sulphates</th>            <td>    0.3481</td> <td>    0.091</td> <td>    3.815</td> <td> 0.000</td> <td>    0.169</td> <td>    0.527</td>\n",
       "</tr>\n",
       "<tr>\n",
       "  <th>quality</th>              <td>    0.5037</td> <td>    0.014</td> <td>   36.312</td> <td> 0.000</td> <td>    0.477</td> <td>    0.531</td>\n",
       "</tr>\n",
       "<tr>\n",
       "  <th>red</th>                  <td>   -0.8366</td> <td>    0.058</td> <td>  -14.410</td> <td> 0.000</td> <td>   -0.950</td> <td>   -0.723</td>\n",
       "</tr>\n",
       "</table>\n",
       "<table class=\"simpletable\">\n",
       "<tr>\n",
       "  <th>Omnibus:</th>       <td>270.174</td> <th>  Durbin-Watson:     </th> <td>   1.588</td>\n",
       "</tr>\n",
       "<tr>\n",
       "  <th>Prob(Omnibus):</th> <td> 0.000</td>  <th>  Jarque-Bera (JB):  </th> <td> 315.456</td>\n",
       "</tr>\n",
       "<tr>\n",
       "  <th>Skew:</th>          <td> 0.482</td>  <th>  Prob(JB):          </th> <td>3.16e-69</td>\n",
       "</tr>\n",
       "<tr>\n",
       "  <th>Kurtosis:</th>      <td> 3.485</td>  <th>  Cond. No.          </th> <td>4.94e+03</td>\n",
       "</tr>\n",
       "</table><br/><br/>Notes:<br/>[1] Standard Errors assume that the covariance matrix of the errors is correctly specified.<br/>[2] The condition number is large, 4.94e+03. This might indicate that there are<br/>strong multicollinearity or other numerical problems."
      ],
      "text/plain": [
       "<class 'statsmodels.iolib.summary.Summary'>\n",
       "\"\"\"\n",
       "                            OLS Regression Results                            \n",
       "==============================================================================\n",
       "Dep. Variable:                alcohol   R-squared:                       0.429\n",
       "Model:                            OLS   Adj. R-squared:                  0.428\n",
       "Method:                 Least Squares   F-statistic:                     443.1\n",
       "Date:                Mon, 08 Nov 2021   Prob (F-statistic):               0.00\n",
       "Time:                        23:23:05   Log-Likelihood:                -8542.5\n",
       "No. Observations:                6497   AIC:                         1.711e+04\n",
       "Df Residuals:                    6485   BIC:                         1.719e+04\n",
       "Df Model:                          11                                         \n",
       "Covariance Type:            nonrobust                                         \n",
       "========================================================================================\n",
       "                           coef    std err          t      P>|t|      [0.025      0.975]\n",
       "----------------------------------------------------------------------------------------\n",
       "const                    8.3439      0.341     24.442      0.000       7.675       9.013\n",
       "fixed acidity           -0.0767      0.013     -6.055      0.000      -0.102      -0.052\n",
       "volatile acidity         1.4561      0.101     14.471      0.000       1.259       1.653\n",
       "citric acid              1.0363      0.097     10.676      0.000       0.846       1.227\n",
       "residual sugar          -0.0726      0.003    -26.208      0.000      -0.078      -0.067\n",
       "chlorides               -7.9402      0.398    -19.971      0.000      -8.720      -7.161\n",
       "free sulfur dioxide      0.0017      0.001      1.778      0.075      -0.000       0.004\n",
       "total sulfur dioxide    -0.0074      0.000    -19.386      0.000      -0.008      -0.007\n",
       "pH                       0.1914      0.088      2.176      0.030       0.019       0.364\n",
       "sulphates                0.3481      0.091      3.815      0.000       0.169       0.527\n",
       "quality                  0.5037      0.014     36.312      0.000       0.477       0.531\n",
       "red                     -0.8366      0.058    -14.410      0.000      -0.950      -0.723\n",
       "==============================================================================\n",
       "Omnibus:                      270.174   Durbin-Watson:                   1.588\n",
       "Prob(Omnibus):                  0.000   Jarque-Bera (JB):              315.456\n",
       "Skew:                           0.482   Prob(JB):                     3.16e-69\n",
       "Kurtosis:                       3.485   Cond. No.                     4.94e+03\n",
       "==============================================================================\n",
       "\n",
       "Notes:\n",
       "[1] Standard Errors assume that the covariance matrix of the errors is correctly specified.\n",
       "[2] The condition number is large, 4.94e+03. This might indicate that there are\n",
       "strong multicollinearity or other numerical problems.\n",
       "\"\"\""
      ]
     },
     "execution_count": 432,
     "metadata": {},
     "output_type": "execute_result"
    }
   ],
   "source": [
    "X = data.loc[:,[\"fixed acidity\",\"volatile acidity\",\"citric acid\",\"residual sugar\",\"chlorides\",\"free sulfur dioxide\",\"total sulfur dioxide\",\"pH\",\"sulphates\",\"quality\",\"red\"]]\n",
    "X = sm.add_constant(X)\n",
    "y = data[\"alcohol\"]\n",
    "lm = sm.OLS(y,X)\n",
    "model = lm.fit()\n",
    "model.summary()"
   ]
  },
  {
   "cell_type": "markdown",
   "id": "4c9f404e",
   "metadata": {},
   "source": [
    "### Removing the density lowered R^2 by a large amount. We may prefer not to remove it because it has close to 5 VIFs."
   ]
  },
  {
   "cell_type": "code",
   "execution_count": 433,
   "id": "feda8f4e",
   "metadata": {},
   "outputs": [
    {
     "data": {
      "text/html": [
       "<table class=\"simpletable\">\n",
       "<caption>OLS Regression Results</caption>\n",
       "<tr>\n",
       "  <th>Dep. Variable:</th>         <td>alcohol</td>     <th>  R-squared:         </th> <td>   0.826</td>\n",
       "</tr>\n",
       "<tr>\n",
       "  <th>Model:</th>                   <td>OLS</td>       <th>  Adj. R-squared:    </th> <td>   0.826</td>\n",
       "</tr>\n",
       "<tr>\n",
       "  <th>Method:</th>             <td>Least Squares</td>  <th>  F-statistic:       </th> <td>   2566.</td>\n",
       "</tr>\n",
       "<tr>\n",
       "  <th>Date:</th>             <td>Mon, 08 Nov 2021</td> <th>  Prob (F-statistic):</th>  <td>  0.00</td> \n",
       "</tr>\n",
       "<tr>\n",
       "  <th>Time:</th>                 <td>23:23:05</td>     <th>  Log-Likelihood:    </th> <td> -4682.0</td>\n",
       "</tr>\n",
       "<tr>\n",
       "  <th>No. Observations:</th>      <td>  6497</td>      <th>  AIC:               </th> <td>   9390.</td>\n",
       "</tr>\n",
       "<tr>\n",
       "  <th>Df Residuals:</th>          <td>  6484</td>      <th>  BIC:               </th> <td>   9478.</td>\n",
       "</tr>\n",
       "<tr>\n",
       "  <th>Df Model:</th>              <td>    12</td>      <th>                     </th>     <td> </td>   \n",
       "</tr>\n",
       "<tr>\n",
       "  <th>Covariance Type:</th>      <td>nonrobust</td>    <th>                     </th>     <td> </td>   \n",
       "</tr>\n",
       "</table>\n",
       "<table class=\"simpletable\">\n",
       "<tr>\n",
       "            <td></td>              <th>coef</th>     <th>std err</th>      <th>t</th>      <th>P>|t|</th>  <th>[0.025</th>    <th>0.975]</th>  \n",
       "</tr>\n",
       "<tr>\n",
       "  <th>const</th>                <td>  648.3559</td> <td>    5.265</td> <td>  123.143</td> <td> 0.000</td> <td>  638.035</td> <td>  658.677</td>\n",
       "</tr>\n",
       "<tr>\n",
       "  <th>fixed acidity</th>        <td>    0.5221</td> <td>    0.009</td> <td>   61.053</td> <td> 0.000</td> <td>    0.505</td> <td>    0.539</td>\n",
       "</tr>\n",
       "<tr>\n",
       "  <th>volatile acidity</th>     <td>    0.7886</td> <td>    0.056</td> <td>   14.128</td> <td> 0.000</td> <td>    0.679</td> <td>    0.898</td>\n",
       "</tr>\n",
       "<tr>\n",
       "  <th>citric acid</th>          <td>    0.5263</td> <td>    0.054</td> <td>    9.790</td> <td> 0.000</td> <td>    0.421</td> <td>    0.632</td>\n",
       "</tr>\n",
       "<tr>\n",
       "  <th>residual sugar</th>       <td>    0.2285</td> <td>    0.003</td> <td>   78.534</td> <td> 0.000</td> <td>    0.223</td> <td>    0.234</td>\n",
       "</tr>\n",
       "<tr>\n",
       "  <th>chlorides</th>            <td>   -0.9119</td> <td>    0.227</td> <td>   -4.018</td> <td> 0.000</td> <td>   -1.357</td> <td>   -0.467</td>\n",
       "</tr>\n",
       "<tr>\n",
       "  <th>free sulfur dioxide</th>  <td>   -0.0034</td> <td>    0.001</td> <td>   -6.522</td> <td> 0.000</td> <td>   -0.004</td> <td>   -0.002</td>\n",
       "</tr>\n",
       "<tr>\n",
       "  <th>total sulfur dioxide</th> <td>   -0.0001</td> <td>    0.000</td> <td>   -0.455</td> <td> 0.649</td> <td>   -0.001</td> <td>    0.000</td>\n",
       "</tr>\n",
       "<tr>\n",
       "  <th>density</th>              <td> -656.4257</td> <td>    5.397</td> <td> -121.636</td> <td> 0.000</td> <td> -667.005</td> <td> -645.847</td>\n",
       "</tr>\n",
       "<tr>\n",
       "  <th>pH</th>                   <td>    2.6073</td> <td>    0.052</td> <td>   49.681</td> <td> 0.000</td> <td>    2.504</td> <td>    2.710</td>\n",
       "</tr>\n",
       "<tr>\n",
       "  <th>sulphates</th>            <td>    0.9958</td> <td>    0.051</td> <td>   19.659</td> <td> 0.000</td> <td>    0.897</td> <td>    1.095</td>\n",
       "</tr>\n",
       "<tr>\n",
       "  <th>quality</th>              <td>    0.1027</td> <td>    0.008</td> <td>   12.320</td> <td> 0.000</td> <td>    0.086</td> <td>    0.119</td>\n",
       "</tr>\n",
       "<tr>\n",
       "  <th>red</th>                  <td>    1.1457</td> <td>    0.036</td> <td>   31.865</td> <td> 0.000</td> <td>    1.075</td> <td>    1.216</td>\n",
       "</tr>\n",
       "</table>\n",
       "<table class=\"simpletable\">\n",
       "<tr>\n",
       "  <th>Omnibus:</th>       <td>7170.847</td> <th>  Durbin-Watson:     </th>  <td>   1.639</td>  \n",
       "</tr>\n",
       "<tr>\n",
       "  <th>Prob(Omnibus):</th>  <td> 0.000</td>  <th>  Jarque-Bera (JB):  </th> <td>4894876.870</td>\n",
       "</tr>\n",
       "<tr>\n",
       "  <th>Skew:</th>           <td> 4.848</td>  <th>  Prob(JB):          </th>  <td>    0.00</td>  \n",
       "</tr>\n",
       "<tr>\n",
       "  <th>Kurtosis:</th>       <td>137.118</td> <th>  Cond. No.          </th>  <td>1.63e+05</td>  \n",
       "</tr>\n",
       "</table><br/><br/>Notes:<br/>[1] Standard Errors assume that the covariance matrix of the errors is correctly specified.<br/>[2] The condition number is large, 1.63e+05. This might indicate that there are<br/>strong multicollinearity or other numerical problems."
      ],
      "text/plain": [
       "<class 'statsmodels.iolib.summary.Summary'>\n",
       "\"\"\"\n",
       "                            OLS Regression Results                            \n",
       "==============================================================================\n",
       "Dep. Variable:                alcohol   R-squared:                       0.826\n",
       "Model:                            OLS   Adj. R-squared:                  0.826\n",
       "Method:                 Least Squares   F-statistic:                     2566.\n",
       "Date:                Mon, 08 Nov 2021   Prob (F-statistic):               0.00\n",
       "Time:                        23:23:05   Log-Likelihood:                -4682.0\n",
       "No. Observations:                6497   AIC:                             9390.\n",
       "Df Residuals:                    6484   BIC:                             9478.\n",
       "Df Model:                          12                                         \n",
       "Covariance Type:            nonrobust                                         \n",
       "========================================================================================\n",
       "                           coef    std err          t      P>|t|      [0.025      0.975]\n",
       "----------------------------------------------------------------------------------------\n",
       "const                  648.3559      5.265    123.143      0.000     638.035     658.677\n",
       "fixed acidity            0.5221      0.009     61.053      0.000       0.505       0.539\n",
       "volatile acidity         0.7886      0.056     14.128      0.000       0.679       0.898\n",
       "citric acid              0.5263      0.054      9.790      0.000       0.421       0.632\n",
       "residual sugar           0.2285      0.003     78.534      0.000       0.223       0.234\n",
       "chlorides               -0.9119      0.227     -4.018      0.000      -1.357      -0.467\n",
       "free sulfur dioxide     -0.0034      0.001     -6.522      0.000      -0.004      -0.002\n",
       "total sulfur dioxide    -0.0001      0.000     -0.455      0.649      -0.001       0.000\n",
       "density               -656.4257      5.397   -121.636      0.000    -667.005    -645.847\n",
       "pH                       2.6073      0.052     49.681      0.000       2.504       2.710\n",
       "sulphates                0.9958      0.051     19.659      0.000       0.897       1.095\n",
       "quality                  0.1027      0.008     12.320      0.000       0.086       0.119\n",
       "red                      1.1457      0.036     31.865      0.000       1.075       1.216\n",
       "==============================================================================\n",
       "Omnibus:                     7170.847   Durbin-Watson:                   1.639\n",
       "Prob(Omnibus):                  0.000   Jarque-Bera (JB):          4894876.870\n",
       "Skew:                           4.848   Prob(JB):                         0.00\n",
       "Kurtosis:                     137.118   Cond. No.                     1.63e+05\n",
       "==============================================================================\n",
       "\n",
       "Notes:\n",
       "[1] Standard Errors assume that the covariance matrix of the errors is correctly specified.\n",
       "[2] The condition number is large, 1.63e+05. This might indicate that there are\n",
       "strong multicollinearity or other numerical problems.\n",
       "\"\"\""
      ]
     },
     "execution_count": 433,
     "metadata": {},
     "output_type": "execute_result"
    }
   ],
   "source": [
    "X = data.loc[:,[\"fixed acidity\",\"volatile acidity\",\"citric acid\",\"residual sugar\",\"chlorides\",\"free sulfur dioxide\",\"total sulfur dioxide\",\"density\",\"pH\",\"sulphates\",\"quality\",\"red\"]]\n",
    "X = sm.add_constant(X)\n",
    "y = data[\"alcohol\"]\n",
    "lm = sm.OLS(y,X)\n",
    "model = lm.fit()\n",
    "model.summary()"
   ]
  },
  {
   "cell_type": "markdown",
   "id": "68305372",
   "metadata": {},
   "source": [
    "### Below, we will analyze the graph with the density not subtracted."
   ]
  },
  {
   "cell_type": "code",
   "execution_count": 434,
   "id": "873245aa",
   "metadata": {},
   "outputs": [
    {
     "data": {
      "text/plain": [
       "<matplotlib.collections.PathCollection at 0x28c48fc4e20>"
      ]
     },
     "execution_count": 434,
     "metadata": {},
     "output_type": "execute_result"
    },
    {
     "data": {
      "image/png": "[encoded data removed]",
      "text/plain": [
       "<Figure size 432x288 with 1 Axes>"
      ]
     },
     "metadata": {
      "needs_background": "light"
     },
     "output_type": "display_data"
    }
   ],
   "source": [
    "import matplotlib.pyplot as plt\n",
    "x=model.fittedvalues\n",
    "y=model.resid\n",
    "plt.scatter(x, y)"
   ]
  },
  {
   "cell_type": "code",
   "execution_count": 435,
   "id": "06561e43",
   "metadata": {},
   "outputs": [
    {
     "data": {
      "text/html": [
       "<table class=\"simpletable\">\n",
       "<caption>OLS Regression Results</caption>\n",
       "<tr>\n",
       "  <th>Dep. Variable:</th>         <td>alcohol</td>     <th>  R-squared:         </th>  <td>   0.824</td> \n",
       "</tr>\n",
       "<tr>\n",
       "  <th>Model:</th>                   <td>OLS</td>       <th>  Adj. R-squared:    </th>  <td>   0.824</td> \n",
       "</tr>\n",
       "<tr>\n",
       "  <th>Method:</th>             <td>Least Squares</td>  <th>  F-statistic:       </th>  <td>   2535.</td> \n",
       "</tr>\n",
       "<tr>\n",
       "  <th>Date:</th>             <td>Mon, 08 Nov 2021</td> <th>  Prob (F-statistic):</th>   <td>  0.00</td>  \n",
       "</tr>\n",
       "<tr>\n",
       "  <th>Time:</th>                 <td>23:23:06</td>     <th>  Log-Likelihood:    </th>  <td>  10694.</td> \n",
       "</tr>\n",
       "<tr>\n",
       "  <th>No. Observations:</th>      <td>  6497</td>      <th>  AIC:               </th> <td>-2.136e+04</td>\n",
       "</tr>\n",
       "<tr>\n",
       "  <th>Df Residuals:</th>          <td>  6484</td>      <th>  BIC:               </th> <td>-2.127e+04</td>\n",
       "</tr>\n",
       "<tr>\n",
       "  <th>Df Model:</th>              <td>    12</td>      <th>                     </th>      <td> </td>    \n",
       "</tr>\n",
       "<tr>\n",
       "  <th>Covariance Type:</th>      <td>nonrobust</td>    <th>                     </th>      <td> </td>    \n",
       "</tr>\n",
       "</table>\n",
       "<table class=\"simpletable\">\n",
       "<tr>\n",
       "            <td></td>              <th>coef</th>     <th>std err</th>      <th>t</th>      <th>P>|t|</th>  <th>[0.025</th>    <th>0.975]</th>  \n",
       "</tr>\n",
       "<tr>\n",
       "  <th>const</th>                <td>   61.2768</td> <td>    0.494</td> <td>  124.079</td> <td> 0.000</td> <td>   60.309</td> <td>   62.245</td>\n",
       "</tr>\n",
       "<tr>\n",
       "  <th>fixed acidity</th>        <td>    0.0493</td> <td>    0.001</td> <td>   61.424</td> <td> 0.000</td> <td>    0.048</td> <td>    0.051</td>\n",
       "</tr>\n",
       "<tr>\n",
       "  <th>volatile acidity</th>     <td>    0.0664</td> <td>    0.005</td> <td>   12.680</td> <td> 0.000</td> <td>    0.056</td> <td>    0.077</td>\n",
       "</tr>\n",
       "<tr>\n",
       "  <th>citric acid</th>          <td>    0.0441</td> <td>    0.005</td> <td>    8.753</td> <td> 0.000</td> <td>    0.034</td> <td>    0.054</td>\n",
       "</tr>\n",
       "<tr>\n",
       "  <th>residual sugar</th>       <td>    0.0208</td> <td>    0.000</td> <td>   76.089</td> <td> 0.000</td> <td>    0.020</td> <td>    0.021</td>\n",
       "</tr>\n",
       "<tr>\n",
       "  <th>chlorides</th>            <td>   -0.0955</td> <td>    0.021</td> <td>   -4.488</td> <td> 0.000</td> <td>   -0.137</td> <td>   -0.054</td>\n",
       "</tr>\n",
       "<tr>\n",
       "  <th>free sulfur dioxide</th>  <td>   -0.0003</td> <td> 4.88e-05</td> <td>   -6.281</td> <td> 0.000</td> <td>   -0.000</td> <td>   -0.000</td>\n",
       "</tr>\n",
       "<tr>\n",
       "  <th>total sulfur dioxide</th> <td> -2.17e-05</td> <td> 2.07e-05</td> <td>   -1.051</td> <td> 0.293</td> <td>-6.22e-05</td> <td> 1.88e-05</td>\n",
       "</tr>\n",
       "<tr>\n",
       "  <th>density</th>              <td>  -60.6660</td> <td>    0.506</td> <td> -119.847</td> <td> 0.000</td> <td>  -61.658</td> <td>  -59.674</td>\n",
       "</tr>\n",
       "<tr>\n",
       "  <th>pH</th>                   <td>    0.2472</td> <td>    0.005</td> <td>   50.220</td> <td> 0.000</td> <td>    0.238</td> <td>    0.257</td>\n",
       "</tr>\n",
       "<tr>\n",
       "  <th>sulphates</th>            <td>    0.0936</td> <td>    0.005</td> <td>   19.709</td> <td> 0.000</td> <td>    0.084</td> <td>    0.103</td>\n",
       "</tr>\n",
       "<tr>\n",
       "  <th>quality</th>              <td>    0.0091</td> <td>    0.001</td> <td>   11.604</td> <td> 0.000</td> <td>    0.008</td> <td>    0.011</td>\n",
       "</tr>\n",
       "<tr>\n",
       "  <th>red</th>                  <td>    0.1041</td> <td>    0.003</td> <td>   30.869</td> <td> 0.000</td> <td>    0.097</td> <td>    0.111</td>\n",
       "</tr>\n",
       "</table>\n",
       "<table class=\"simpletable\">\n",
       "<tr>\n",
       "  <th>Omnibus:</th>       <td>7151.804</td> <th>  Durbin-Watson:     </th>  <td>   1.634</td>  \n",
       "</tr>\n",
       "<tr>\n",
       "  <th>Prob(Omnibus):</th>  <td> 0.000</td>  <th>  Jarque-Bera (JB):  </th> <td>5087265.036</td>\n",
       "</tr>\n",
       "<tr>\n",
       "  <th>Skew:</th>           <td> 4.810</td>  <th>  Prob(JB):          </th>  <td>    0.00</td>  \n",
       "</tr>\n",
       "<tr>\n",
       "  <th>Kurtosis:</th>       <td>139.748</td> <th>  Cond. No.          </th>  <td>1.63e+05</td>  \n",
       "</tr>\n",
       "</table><br/><br/>Notes:<br/>[1] Standard Errors assume that the covariance matrix of the errors is correctly specified.<br/>[2] The condition number is large, 1.63e+05. This might indicate that there are<br/>strong multicollinearity or other numerical problems."
      ],
      "text/plain": [
       "<class 'statsmodels.iolib.summary.Summary'>\n",
       "\"\"\"\n",
       "                            OLS Regression Results                            \n",
       "==============================================================================\n",
       "Dep. Variable:                alcohol   R-squared:                       0.824\n",
       "Model:                            OLS   Adj. R-squared:                  0.824\n",
       "Method:                 Least Squares   F-statistic:                     2535.\n",
       "Date:                Mon, 08 Nov 2021   Prob (F-statistic):               0.00\n",
       "Time:                        23:23:06   Log-Likelihood:                 10694.\n",
       "No. Observations:                6497   AIC:                        -2.136e+04\n",
       "Df Residuals:                    6484   BIC:                        -2.127e+04\n",
       "Df Model:                          12                                         \n",
       "Covariance Type:            nonrobust                                         \n",
       "========================================================================================\n",
       "                           coef    std err          t      P>|t|      [0.025      0.975]\n",
       "----------------------------------------------------------------------------------------\n",
       "const                   61.2768      0.494    124.079      0.000      60.309      62.245\n",
       "fixed acidity            0.0493      0.001     61.424      0.000       0.048       0.051\n",
       "volatile acidity         0.0664      0.005     12.680      0.000       0.056       0.077\n",
       "citric acid              0.0441      0.005      8.753      0.000       0.034       0.054\n",
       "residual sugar           0.0208      0.000     76.089      0.000       0.020       0.021\n",
       "chlorides               -0.0955      0.021     -4.488      0.000      -0.137      -0.054\n",
       "free sulfur dioxide     -0.0003   4.88e-05     -6.281      0.000      -0.000      -0.000\n",
       "total sulfur dioxide  -2.17e-05   2.07e-05     -1.051      0.293   -6.22e-05    1.88e-05\n",
       "density                -60.6660      0.506   -119.847      0.000     -61.658     -59.674\n",
       "pH                       0.2472      0.005     50.220      0.000       0.238       0.257\n",
       "sulphates                0.0936      0.005     19.709      0.000       0.084       0.103\n",
       "quality                  0.0091      0.001     11.604      0.000       0.008       0.011\n",
       "red                      0.1041      0.003     30.869      0.000       0.097       0.111\n",
       "==============================================================================\n",
       "Omnibus:                     7151.804   Durbin-Watson:                   1.634\n",
       "Prob(Omnibus):                  0.000   Jarque-Bera (JB):          5087265.036\n",
       "Skew:                           4.810   Prob(JB):                         0.00\n",
       "Kurtosis:                     139.748   Cond. No.                     1.63e+05\n",
       "==============================================================================\n",
       "\n",
       "Notes:\n",
       "[1] Standard Errors assume that the covariance matrix of the errors is correctly specified.\n",
       "[2] The condition number is large, 1.63e+05. This might indicate that there are\n",
       "strong multicollinearity or other numerical problems.\n",
       "\"\"\""
      ]
     },
     "execution_count": 435,
     "metadata": {},
     "output_type": "execute_result"
    }
   ],
   "source": [
    "X = data.loc[:,[\"fixed acidity\",\"volatile acidity\",\"citric acid\",\"residual sugar\",\"chlorides\",\"free sulfur dioxide\",\"total sulfur dioxide\",\"density\",\"pH\",\"sulphates\",\"quality\",\"red\"]]\n",
    "y = np.log(data[\"alcohol\"])\n",
    "X= sm.add_constant(X)\n",
    "lm = sm.OLS(y, X)\n",
    "model = lm.fit()\n",
    "model.summary()"
   ]
  },
  {
   "cell_type": "code",
   "execution_count": 436,
   "id": "0a3c79ed",
   "metadata": {},
   "outputs": [
    {
     "data": {
      "text/plain": [
       "<matplotlib.collections.PathCollection at 0x28c4662b910>"
      ]
     },
     "execution_count": 436,
     "metadata": {},
     "output_type": "execute_result"
    },
    {
     "data": {
      "image/png": "[encoded data removed]",
      "text/plain": [
       "<Figure size 432x288 with 1 Axes>"
      ]
     },
     "metadata": {
      "needs_background": "light"
     },
     "output_type": "display_data"
    }
   ],
   "source": [
    "x=model.fittedvalues\n",
    "y=model.resid\n",
    "plt.scatter(x, y)"
   ]
  },
  {
   "cell_type": "markdown",
   "id": "01a7c232",
   "metadata": {},
   "source": [
    "### Log transformation did not change the skedasticity of the residuals. But it is changed the R^2."
   ]
  },
  {
   "cell_type": "markdown",
   "id": "bc9080e6",
   "metadata": {},
   "source": [
    "# LASSO REGRESSION - with log"
   ]
  },
  {
   "cell_type": "code",
   "execution_count": 437,
   "id": "ac04e652",
   "metadata": {},
   "outputs": [],
   "source": [
    "from sklearn.linear_model import Lasso\n",
    "X = data.loc[:,[\"fixed acidity\",\"volatile acidity\",\"citric acid\",\"residual sugar\",\"chlorides\",\"free sulfur dioxide\",\"total sulfur dioxide\",\"density\",\"pH\",\"sulphates\",\"quality\",\"red\"]]\n",
    "y = np.log(data[\"alcohol\"])\n",
    "X= sm.add_constant(X)                                   \n",
    "lasso_model = Lasso(alpha = 0.2).fit(X, y) "
   ]
  },
  {
   "cell_type": "code",
   "execution_count": 438,
   "id": "15490be2",
   "metadata": {},
   "outputs": [
    {
     "data": {
      "text/plain": [
       "array([ 0.        , -0.        , -0.        ,  0.        , -0.        ,\n",
       "       -0.        , -0.        , -0.00047697, -0.        ,  0.        ,\n",
       "       -0.        ,  0.        , -0.        ])"
      ]
     },
     "execution_count": 438,
     "metadata": {},
     "output_type": "execute_result"
    }
   ],
   "source": [
    "lasso_model\n",
    "lasso_model.coef_ "
   ]
  },
  {
   "cell_type": "code",
   "execution_count": 439,
   "id": "73765d6b",
   "metadata": {},
   "outputs": [
    {
     "data": {
      "text/plain": [
       "9.508596933335682e-07"
      ]
     },
     "execution_count": 439,
     "metadata": {},
     "output_type": "execute_result"
    }
   ],
   "source": [
    "from sklearn.linear_model import LassoCV     \n",
    "lasso_cv_model = LassoCV(alphas = None, cv = 10, \n",
    "                         max_iter = 10000, \n",
    "                         normalize = True)\n",
    "lasso_cv_model.fit(X,y)\n",
    "lasso_cv_model.alpha_  "
   ]
  },
  {
   "cell_type": "markdown",
   "id": "67aac267",
   "metadata": {},
   "source": [
    "### As you can see alpha (lambda) value is small. Because of that it is hard to do calculation for equation. Without log, we will have a bigger alpha value. "
   ]
  },
  {
   "cell_type": "code",
   "execution_count": 440,
   "id": "2e7f2544",
   "metadata": {},
   "outputs": [],
   "source": [
    "lasso_tuned = Lasso(alpha = lasso_cv_model.alpha_)\n",
    "lasso_tuned.fit(X, y)\n",
    "y_pred = lasso_tuned.predict(X)"
   ]
  },
  {
   "cell_type": "code",
   "execution_count": 441,
   "id": "15a76036",
   "metadata": {},
   "outputs": [
    {
     "data": {
      "text/plain": [
       "0.04666516661382175"
      ]
     },
     "execution_count": 441,
     "metadata": {},
     "output_type": "execute_result"
    }
   ],
   "source": [
    "from sklearn.metrics import mean_squared_error\n",
    "np.sqrt(mean_squared_error(y, y_pred))"
   ]
  },
  {
   "cell_type": "code",
   "execution_count": 442,
   "id": "b1c328f0",
   "metadata": {},
   "outputs": [],
   "source": [
    "from sklearn.linear_model import Lasso\n",
    "lasso_model = Lasso(alpha = 9.508596933335682e-07).fit(X, y)"
   ]
  },
  {
   "cell_type": "code",
   "execution_count": 443,
   "id": "68c090df",
   "metadata": {},
   "outputs": [
    {
     "data": {
      "text/plain": [
       "array([ 0.00000000e+00,  4.86119540e-02,  6.70042932e-02,  4.45584614e-02,\n",
       "        2.04361287e-02, -1.01941386e-01, -3.01113135e-04, -2.98013805e-05,\n",
       "       -5.99432157e+01,  2.44546763e-01,  9.28245239e-02,  9.52125618e-03,\n",
       "        1.01888979e-01])"
      ]
     },
     "execution_count": 443,
     "metadata": {},
     "output_type": "execute_result"
    }
   ],
   "source": [
    "lasso_model\n",
    "lasso_model.coef_"
   ]
  },
  {
   "cell_type": "markdown",
   "id": "c61c4d05",
   "metadata": {},
   "source": [
    "### Lasso with log will give us similiar coefficient values with the OLS with log. "
   ]
  },
  {
   "cell_type": "markdown",
   "id": "b993be83",
   "metadata": {},
   "source": [
    "### The first one is our constant coefficient value and it appears as 0."
   ]
  },
  {
   "cell_type": "markdown",
   "id": "cfcdcb14",
   "metadata": {},
   "source": [
    "# LASSO REGRESSION - without log"
   ]
  },
  {
   "cell_type": "markdown",
   "id": "25748b8f",
   "metadata": {},
   "source": [
    "### In the Lasso method, we try to find the optimum alpha (lamda) that minimizes MSE ."
   ]
  },
  {
   "cell_type": "code",
   "execution_count": 444,
   "id": "df176656",
   "metadata": {},
   "outputs": [],
   "source": [
    "X = data.loc[:,[\"fixed acidity\",\"volatile acidity\",\"citric acid\",\"residual sugar\",\"chlorides\",\"free sulfur dioxide\",\"total sulfur dioxide\",\"density\",\"pH\",\"sulphates\",\"quality\",\"red\"]]\n",
    "y = data[\"alcohol\"]\n",
    "X = sm.add_constant(X)\n",
    "lasso_model = Lasso(alpha = 0.3).fit(X, y)"
   ]
  },
  {
   "cell_type": "code",
   "execution_count": 445,
   "id": "c102319b",
   "metadata": {},
   "outputs": [
    {
     "data": {
      "text/plain": [
       "1.252709879124095e-05"
      ]
     },
     "execution_count": 445,
     "metadata": {},
     "output_type": "execute_result"
    }
   ],
   "source": [
    "from sklearn.linear_model import LassoCV     \n",
    "lasso_cv_model = LassoCV(alphas = None, cv = 10, \n",
    "                         max_iter = 10000, \n",
    "                         normalize = True)\n",
    "lasso_cv_model.fit(X,y)\n",
    "lasso_cv_model.alpha_"
   ]
  },
  {
   "cell_type": "markdown",
   "id": "3d43aabf",
   "metadata": {},
   "source": [
    "### The best optimum alpha was found to be 1.252709879124095e-05."
   ]
  },
  {
   "cell_type": "code",
   "execution_count": 446,
   "id": "a85bab50",
   "metadata": {},
   "outputs": [
    {
     "data": {
      "text/plain": [
       "array([ 0.        , -0.        , -0.        ,  0.        , -0.05806033,\n",
       "       -0.        ,  0.        , -0.00296821, -0.        ,  0.        ,\n",
       "       -0.        ,  0.19374658, -0.        ])"
      ]
     },
     "execution_count": 446,
     "metadata": {},
     "output_type": "execute_result"
    }
   ],
   "source": [
    "lasso_model\n",
    "lasso_model.coef_ "
   ]
  },
  {
   "cell_type": "code",
   "execution_count": 447,
   "id": "63beef67",
   "metadata": {},
   "outputs": [],
   "source": [
    "lasso_tuned = Lasso(alpha = lasso_cv_model.alpha_)\n",
    "lasso_tuned.fit(X, y)\n",
    "y_pred = lasso_tuned.predict(X)"
   ]
  },
  {
   "cell_type": "code",
   "execution_count": 448,
   "id": "b718621f",
   "metadata": {},
   "outputs": [
    {
     "data": {
      "text/plain": [
       "0.49754839287064984"
      ]
     },
     "execution_count": 448,
     "metadata": {},
     "output_type": "execute_result"
    }
   ],
   "source": [
    "from sklearn.metrics import mean_squared_error\n",
    "np.sqrt(mean_squared_error(y, y_pred))"
   ]
  },
  {
   "cell_type": "code",
   "execution_count": 449,
   "id": "5821e0f1",
   "metadata": {},
   "outputs": [],
   "source": [
    "lasso_model = Lasso(alpha = lasso_cv_model.alpha_).fit(X, y)"
   ]
  },
  {
   "cell_type": "code",
   "execution_count": 450,
   "id": "4aebcc58",
   "metadata": {},
   "outputs": [
    {
     "data": {
      "text/plain": [
       "array([ 0.00000000e+00,  5.13444973e-01,  7.96698693e-01,  5.31881787e-01,\n",
       "        2.24156913e-01, -9.96344859e-01, -3.32163558e-03, -2.06909878e-04,\n",
       "       -6.46903956e+02,  2.57215080e+00,  9.85058555e-01,  1.08602055e-01,\n",
       "        1.11650999e+00])"
      ]
     },
     "execution_count": 450,
     "metadata": {},
     "output_type": "execute_result"
    }
   ],
   "source": [
    "lasso_model\n",
    "lasso_model.coef_ "
   ]
  },
  {
   "cell_type": "markdown",
   "id": "7687df06",
   "metadata": {},
   "source": [
    "### Lasso method will give us similiar coefficient values with the OLS."
   ]
  },
  {
   "cell_type": "markdown",
   "id": "e12067cd",
   "metadata": {},
   "source": [
    "### The first one is our constant coefficient value and it appears as 0."
   ]
  },
  {
   "cell_type": "markdown",
   "id": "f32c08e8",
   "metadata": {},
   "source": [
    "# RIDGE REGRESSION"
   ]
  },
  {
   "cell_type": "code",
   "execution_count": 451,
   "id": "0b469754",
   "metadata": {},
   "outputs": [],
   "source": [
    "X = data.loc[:,[\"fixed acidity\",\"volatile acidity\",\"citric acid\",\"residual sugar\",\"chlorides\",\"free sulfur dioxide\",\"total sulfur dioxide\",\"density\",\"pH\",\"sulphates\",\"quality\",\"red\"]]\n",
    "X = sm.add_constant(X)\n",
    "y = data[\"alcohol\"]"
   ]
  },
  {
   "cell_type": "code",
   "execution_count": 452,
   "id": "671f73bb",
   "metadata": {},
   "outputs": [
    {
     "data": {
      "text/plain": [
       "array([ 0.00000000e+00, -6.25687868e-02,  1.41802237e+00,  9.99178496e-01,\n",
       "       -6.62487741e-02, -7.22771616e+00,  1.53479600e-03, -7.29351053e-03,\n",
       "       -1.37588394e+01,  2.58333534e-01,  3.32887661e-01,  4.98213273e-01,\n",
       "       -8.14212994e-01])"
      ]
     },
     "execution_count": 452,
     "metadata": {},
     "output_type": "execute_result"
    }
   ],
   "source": [
    "from sklearn.linear_model import Ridge\n",
    "ridge_model = Ridge(alpha = 0.4).fit(X, y)        \n",
    "ridge_model.coef_"
   ]
  },
  {
   "cell_type": "code",
   "execution_count": 453,
   "id": "a9ba9441",
   "metadata": {},
   "outputs": [],
   "source": [
    "from sklearn.linear_model import RidgeCV         \n",
    "lambdalar = 10**np.linspace(10,-2,100)*0.5"
   ]
  },
  {
   "cell_type": "markdown",
   "id": "bf1b7ca4",
   "metadata": {},
   "source": [
    "### It has an alpha value that minimizes MSE. Then the coefficients are recalculated with that alpha value."
   ]
  },
  {
   "cell_type": "code",
   "execution_count": 454,
   "id": "175954ca",
   "metadata": {},
   "outputs": [
    {
     "data": {
      "text/plain": [
       "array([5.00000000e+09, 3.78231664e+09, 2.86118383e+09, 2.16438064e+09,\n",
       "       1.63727458e+09, 1.23853818e+09, 9.36908711e+08, 7.08737081e+08,\n",
       "       5.36133611e+08, 4.05565415e+08, 3.06795364e+08, 2.32079442e+08,\n",
       "       1.75559587e+08, 1.32804389e+08, 1.00461650e+08, 7.59955541e+07,\n",
       "       5.74878498e+07, 4.34874501e+07, 3.28966612e+07, 2.48851178e+07,\n",
       "       1.88246790e+07, 1.42401793e+07, 1.07721735e+07, 8.14875417e+06,\n",
       "       6.16423370e+06, 4.66301673e+06, 3.52740116e+06, 2.66834962e+06,\n",
       "       2.01850863e+06, 1.52692775e+06, 1.15506485e+06, 8.73764200e+05,\n",
       "       6.60970574e+05, 5.00000000e+05, 3.78231664e+05, 2.86118383e+05,\n",
       "       2.16438064e+05, 1.63727458e+05, 1.23853818e+05, 9.36908711e+04,\n",
       "       7.08737081e+04, 5.36133611e+04, 4.05565415e+04, 3.06795364e+04,\n",
       "       2.32079442e+04, 1.75559587e+04, 1.32804389e+04, 1.00461650e+04,\n",
       "       7.59955541e+03, 5.74878498e+03, 4.34874501e+03, 3.28966612e+03,\n",
       "       2.48851178e+03, 1.88246790e+03, 1.42401793e+03, 1.07721735e+03,\n",
       "       8.14875417e+02, 6.16423370e+02, 4.66301673e+02, 3.52740116e+02,\n",
       "       2.66834962e+02, 2.01850863e+02, 1.52692775e+02, 1.15506485e+02,\n",
       "       8.73764200e+01, 6.60970574e+01, 5.00000000e+01, 3.78231664e+01,\n",
       "       2.86118383e+01, 2.16438064e+01, 1.63727458e+01, 1.23853818e+01,\n",
       "       9.36908711e+00, 7.08737081e+00, 5.36133611e+00, 4.05565415e+00,\n",
       "       3.06795364e+00, 2.32079442e+00, 1.75559587e+00, 1.32804389e+00,\n",
       "       1.00461650e+00, 7.59955541e-01, 5.74878498e-01, 4.34874501e-01,\n",
       "       3.28966612e-01, 2.48851178e-01, 1.88246790e-01, 1.42401793e-01,\n",
       "       1.07721735e-01, 8.14875417e-02, 6.16423370e-02, 4.66301673e-02,\n",
       "       3.52740116e-02, 2.66834962e-02, 2.01850863e-02, 1.52692775e-02,\n",
       "       1.15506485e-02, 8.73764200e-03, 6.60970574e-03, 5.00000000e-03])"
      ]
     },
     "execution_count": 454,
     "metadata": {},
     "output_type": "execute_result"
    }
   ],
   "source": [
    "lambdalar"
   ]
  },
  {
   "cell_type": "code",
   "execution_count": 455,
   "id": "6df2a22c",
   "metadata": {},
   "outputs": [],
   "source": [
    "ridge_model = Ridge()\n",
    "katsayilar = []"
   ]
  },
  {
   "cell_type": "code",
   "execution_count": 456,
   "id": "949c7d44",
   "metadata": {},
   "outputs": [],
   "source": [
    "for i in lambdalar:\n",
    "    ridge_model.set_params(alpha = i)\n",
    "    ridge_model.fit(X, y) \n",
    "    katsayilar.append(ridge_model.coef_) "
   ]
  },
  {
   "cell_type": "markdown",
   "id": "a74a746e",
   "metadata": {},
   "source": [
    "### Here we calculate MSE for each alpha value."
   ]
  },
  {
   "cell_type": "code",
   "execution_count": 457,
   "id": "caa41896",
   "metadata": {},
   "outputs": [
    {
     "data": {
      "image/png": "[encoded data removed]",
      "text/plain": [
       "<Figure size 432x288 with 1 Axes>"
      ]
     },
     "metadata": {
      "needs_background": "light"
     },
     "output_type": "display_data"
    }
   ],
   "source": [
    "ax = plt.gca()\n",
    "ax.plot(lambdalar, katsayilar) \n",
    "ax.set_xscale('log')"
   ]
  },
  {
   "cell_type": "markdown",
   "id": "ee0bbaa5",
   "metadata": {},
   "source": [
    "### Every line is coefficient vector. In this graph, alpha gets bigger. While this happening, coefficient values goes to zero."
   ]
  },
  {
   "cell_type": "code",
   "execution_count": 458,
   "id": "0bf643cd",
   "metadata": {},
   "outputs": [],
   "source": [
    "from sklearn.linear_model import RidgeCV                           \n",
    "ridge_cv=RidgeCV(alphas=lambdalar, scoring=\"neg_mean_squared_error\", normalize=True)"
   ]
  },
  {
   "cell_type": "markdown",
   "id": "9eb5a9c0",
   "metadata": {},
   "source": [
    "### Optimal alpha minimizes MSE."
   ]
  },
  {
   "cell_type": "code",
   "execution_count": 459,
   "id": "e97ea4b8",
   "metadata": {},
   "outputs": [
    {
     "data": {
      "text/plain": [
       "RidgeCV(alphas=array([5.00000000e+09, 3.78231664e+09, 2.86118383e+09, 2.16438064e+09,\n",
       "       1.63727458e+09, 1.23853818e+09, 9.36908711e+08, 7.08737081e+08,\n",
       "       5.36133611e+08, 4.05565415e+08, 3.06795364e+08, 2.32079442e+08,\n",
       "       1.75559587e+08, 1.32804389e+08, 1.00461650e+08, 7.59955541e+07,\n",
       "       5.74878498e+07, 4.34874501e+07, 3.28966612e+07, 2.48851178e+07,\n",
       "       1.88246790e+07, 1.42401793e+0...\n",
       "       1.00461650e+00, 7.59955541e-01, 5.74878498e-01, 4.34874501e-01,\n",
       "       3.28966612e-01, 2.48851178e-01, 1.88246790e-01, 1.42401793e-01,\n",
       "       1.07721735e-01, 8.14875417e-02, 6.16423370e-02, 4.66301673e-02,\n",
       "       3.52740116e-02, 2.66834962e-02, 2.01850863e-02, 1.52692775e-02,\n",
       "       1.15506485e-02, 8.73764200e-03, 6.60970574e-03, 5.00000000e-03]),\n",
       "        normalize=True, scoring='neg_mean_squared_error')"
      ]
     },
     "execution_count": 459,
     "metadata": {},
     "output_type": "execute_result"
    }
   ],
   "source": [
    "ridge_cv.fit(X,y)"
   ]
  },
  {
   "cell_type": "code",
   "execution_count": 460,
   "id": "c02a9cef",
   "metadata": {},
   "outputs": [
    {
     "data": {
      "text/plain": [
       "0.005"
      ]
     },
     "execution_count": 460,
     "metadata": {},
     "output_type": "execute_result"
    }
   ],
   "source": [
    "ridge_cv.alpha_"
   ]
  },
  {
   "cell_type": "code",
   "execution_count": 461,
   "id": "de0f50ca",
   "metadata": {},
   "outputs": [
    {
     "data": {
      "text/plain": [
       "array([ 0.00000000e+00,  3.00537551e-01,  1.03539967e+00,  7.14806327e-01,\n",
       "        1.17111016e-01, -3.50890756e+00, -1.52024707e-03, -2.81437860e-03,\n",
       "       -4.13551504e+02,  1.71347481e+00,  7.55958602e-01,  2.51117437e-01,\n",
       "        4.12154186e-01])"
      ]
     },
     "execution_count": 461,
     "metadata": {},
     "output_type": "execute_result"
    }
   ],
   "source": [
    "ridge_model = Ridge(alpha = ridge_cv.alpha_).fit(X, y)           \n",
    "ridge_model.coef_"
   ]
  },
  {
   "cell_type": "code",
   "execution_count": null,
   "id": "0be86503",
   "metadata": {},
   "outputs": [],
   "source": []
  }
 ],
 "metadata": {
  "kernelspec": {
   "display_name": "Python 3",
   "language": "python",
   "name": "python3"
  },
  "language_info": {
   "codemirror_mode": {
    "name": "ipython",
    "version": 3
   },
   "file_extension": ".py",
   "mimetype": "text/x-python",
   "name": "python",
   "nbconvert_exporter": "python",
   "pygments_lexer": "ipython3",
   "version": "3.8.8"
  }
 },
 "nbformat": 4,
 "nbformat_minor": 5
}
