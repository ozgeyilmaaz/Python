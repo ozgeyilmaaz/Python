{
 "cells": [
  {
   "cell_type": "code",
   "execution_count": 1,
   "metadata": {},
   "outputs": [],
   "source": [
    "import pandas as pd\n",
    "import numpy as np\n",
    "import matplotlib.pyplot as plt"
   ]
  },
  {
   "cell_type": "code",
   "execution_count": 2,
   "metadata": {},
   "outputs": [],
   "source": [
    "np.random.seed(0)"
   ]
  },
  {
   "cell_type": "code",
   "execution_count": 3,
   "metadata": {},
   "outputs": [],
   "source": [
    "Hw1 = pd.read_csv('Validation.csv')\n",
    "y=Hw1['y'].values\n",
    "x=Hw1['x'].values.reshape(-1,1)"
   ]
  },
  {
   "cell_type": "markdown",
   "metadata": {},
   "source": [
    "# LOOCV"
   ]
  },
  {
   "cell_type": "code",
   "execution_count": 4,
   "metadata": {},
   "outputs": [],
   "source": [
    "from sklearn.linear_model import LinearRegression\n",
    "from sklearn.model_selection import train_test_split\n",
    "from sklearn.model_selection import LeaveOneOut\n",
    "from sklearn.preprocessing import PolynomialFeatures\n",
    "from sklearn.metrics import mean_squared_error"
   ]
  },
  {
   "cell_type": "markdown",
   "metadata": {},
   "source": [
    "### (a)"
   ]
  },
  {
   "cell_type": "code",
   "execution_count": 5,
   "metadata": {},
   "outputs": [],
   "source": [
    "X_train, X_test, Y_train, Y_test = train_test_split(x, y, test_size=0.2, random_state=5)\n",
    "#we split the given database into 2 pieces as 20% test set and 80% training set."
   ]
  },
  {
   "cell_type": "markdown",
   "metadata": {},
   "source": [
    "### (b)"
   ]
  },
  {
   "cell_type": "code",
   "execution_count": 6,
   "metadata": {},
   "outputs": [],
   "source": [
    "#This function takes degree as parameter. \n",
    "#By using it in the loop in the next codes, we separate different degrees and x variables\n",
    "#into variables as much as degrees and fit them in linear regression.\n",
    "#We calculate the mse values of trains and validations.\n",
    "\n",
    "def create_polynomial_regression_model(degree):\n",
    "\n",
    "  \"Creates a polynomial regression model for the given degree\"\n",
    "  \n",
    "  poly_features = PolynomialFeatures(degree=degree,include_bias=False)\n",
    "  \n",
    "  # transforms the existing features to higher degree features.\n",
    "  X_train_poly = poly_features.fit_transform(X_trainv)\n",
    "  \n",
    "  # fit the transformed features to Linear Regression\n",
    "  poly_model = LinearRegression()\n",
    "  poly_model.fit(X_train_poly, Y_trainv)\n",
    "  \n",
    "  # predicting on training data-set\n",
    "  y_train_predicted = poly_model.predict(X_train_poly)\n",
    "  \n",
    "  # predicting on validation data-set\n",
    "  y_valid_predict = poly_model.predict(poly_features.fit_transform(X_valid))\n",
    "  \n",
    "  # evaluating the model on training dataset\n",
    "  mse_train = mean_squared_error(Y_trainv, y_train_predicted)\n",
    "  \n",
    "  # evaluating the model on validation dataset\n",
    "  mse_valid = mean_squared_error(Y_valid, y_valid_predict)\n",
    "   \n",
    "  return (mse_train,mse_valid,degree)"
   ]
  },
  {
   "cell_type": "code",
   "execution_count": 7,
   "metadata": {},
   "outputs": [
    {
     "data": {
      "text/html": [
       "<div>\n",
       "<style scoped>\n",
       "    .dataframe tbody tr th:only-of-type {\n",
       "        vertical-align: middle;\n",
       "    }\n",
       "\n",
       "    .dataframe tbody tr th {\n",
       "        vertical-align: top;\n",
       "    }\n",
       "\n",
       "    .dataframe thead th {\n",
       "        text-align: right;\n",
       "    }\n",
       "</style>\n",
       "<table border=\"1\" class=\"dataframe\">\n",
       "  <thead>\n",
       "    <tr style=\"text-align: right;\">\n",
       "      <th></th>\n",
       "      <th>Validation Error</th>\n",
       "      <th>Degree</th>\n",
       "    </tr>\n",
       "  </thead>\n",
       "  <tbody>\n",
       "    <tr>\n",
       "      <th>0</th>\n",
       "      <td>520.607757</td>\n",
       "      <td>1</td>\n",
       "    </tr>\n",
       "    <tr>\n",
       "      <th>1</th>\n",
       "      <td>631.287810</td>\n",
       "      <td>2</td>\n",
       "    </tr>\n",
       "    <tr>\n",
       "      <th>2</th>\n",
       "      <td>10.591862</td>\n",
       "      <td>3</td>\n",
       "    </tr>\n",
       "    <tr>\n",
       "      <th>3</th>\n",
       "      <td>13.638137</td>\n",
       "      <td>4</td>\n",
       "    </tr>\n",
       "    <tr>\n",
       "      <th>4</th>\n",
       "      <td>20.684430</td>\n",
       "      <td>5</td>\n",
       "    </tr>\n",
       "    <tr>\n",
       "      <th>5</th>\n",
       "      <td>35.716891</td>\n",
       "      <td>6</td>\n",
       "    </tr>\n",
       "    <tr>\n",
       "      <th>6</th>\n",
       "      <td>32.185814</td>\n",
       "      <td>7</td>\n",
       "    </tr>\n",
       "    <tr>\n",
       "      <th>7</th>\n",
       "      <td>203.269749</td>\n",
       "      <td>8</td>\n",
       "    </tr>\n",
       "    <tr>\n",
       "      <th>8</th>\n",
       "      <td>12.044032</td>\n",
       "      <td>9</td>\n",
       "    </tr>\n",
       "  </tbody>\n",
       "</table>\n",
       "</div>"
      ],
      "text/plain": [
       "   Validation Error  Degree\n",
       "0        520.607757       1\n",
       "1        631.287810       2\n",
       "2         10.591862       3\n",
       "3         13.638137       4\n",
       "4         20.684430       5\n",
       "5         35.716891       6\n",
       "6         32.185814       7\n",
       "7        203.269749       8\n",
       "8         12.044032       9"
      ]
     },
     "execution_count": 7,
     "metadata": {},
     "output_type": "execute_result"
    }
   ],
   "source": [
    "loo = LeaveOneOut()\n",
    "LeaveOneOutCV=[]\n",
    "for j in range(1,10):\n",
    "    LeaveOneOutErrors=[]\n",
    "    for train_index, validation_index in loo.split(X_train):\n",
    "        X_trainv, X_valid = X_train[train_index],X_train[validation_index]\n",
    "        Y_trainv, Y_valid = Y_train[train_index], Y_train[validation_index]\n",
    "        LeaveOneOutErrors.append(create_polynomial_regression_model(j))\n",
    "        df = pd.DataFrame (LeaveOneOutErrors,columns=['Training Error','Validation Error','Degree'])\n",
    "    LeaveOneOutCV.append([df['Validation Error'].mean(),df['Degree'][0]])\n",
    "LeaveOneOutCV_df = pd.DataFrame (LeaveOneOutCV,columns=['Validation Error','Degree'])\n",
    "LeaveOneOutCV_df\n",
    "\n",
    "#Here we have implemented LeaveOneOut. \n",
    "#We made the necessary calculations in the create_polynomial_regression_model function for 10 different degrees. \n",
    "#We added the mse values and degrees returned from this function to the LeaveOneOutErrors list.\n",
    "#We also appended the dataframe containing the averages and grades of validation errors to LeaveOneOutCV. \n",
    "#We also converted LeaveOneOutCV to the last dataframe and got the output.\n"
   ]
  },
  {
   "cell_type": "code",
   "execution_count": 8,
   "metadata": {},
   "outputs": [
    {
     "data": {
      "text/plain": [
       "<matplotlib.legend.Legend at 0x1720b3b6880>"
      ]
     },
     "execution_count": 8,
     "metadata": {},
     "output_type": "execute_result"
    },
    {
     "data": {
      "image/png": "[encoded data removed]",
      "text/plain": [
       "<Figure size 432x288 with 1 Axes>"
      ]
     },
     "metadata": {
      "needs_background": "light"
     },
     "output_type": "display_data"
    }
   ],
   "source": [
    "fig=plt.figure()\n",
    "ax = fig.add_subplot(1, 1, 1)\n",
    "ax.plot(LeaveOneOutCV_df['Degree'].values,LeaveOneOutCV_df['Validation Error'].values,label = 'Leave One Out Error')\n",
    "ax.set_xlabel('Degree')\n",
    "ax.set_ylabel('Errors')\n",
    "ax.tick_params(axis='x', labelsize=8)\n",
    "ax.legend(loc='best')"
   ]
  },
  {
   "cell_type": "markdown",
   "metadata": {},
   "source": [
    "We visualized what we achieved above. As can be seen from the above outputs and the graph here, we have reached the smallest value at the 3rd degree."
   ]
  },
  {
   "cell_type": "markdown",
   "metadata": {},
   "source": [
    "### (c)"
   ]
  },
  {
   "cell_type": "markdown",
   "metadata": {},
   "source": [
    "Where we got the lowest error, i.e. at level 3, we created the PolynomialFeatures object and assigned it to the variable poly_features. With fit_transform(X_train) we converted it into 3 different variables with the values in X_train and we created a linear regression of the polynomial model by sending y_train with these values. We also performed the transform operation on the x values in the test set and equated it to X_test_poly. Using poly_model we predicted with values in X_test_poly and equated to Y_test_predict. And finally we calculated the mse."
   ]
  },
  {
   "cell_type": "code",
   "execution_count": 9,
   "metadata": {},
   "outputs": [
    {
     "name": "stdout",
     "output_type": "stream",
     "text": [
      "mse of test: 7.106966845948281\n"
     ]
    }
   ],
   "source": [
    "\n",
    "poly_features = PolynomialFeatures(degree=3,include_bias=False)\n",
    "X_train_poly = poly_features.fit_transform(X_train)\n",
    "poly_model = LinearRegression()\n",
    "poly_model.fit(X_train_poly, Y_train)\n",
    "\n",
    "\n",
    "X_test_poly = poly_features.fit_transform(X_test)\n",
    "Y_test_predict=poly_model.predict(X_test_poly)\n",
    "mse_test = mean_squared_error(Y_test, Y_test_predict)\n",
    "print(\"mse of test:\",mse_test)"
   ]
  },
  {
   "cell_type": "markdown",
   "metadata": {},
   "source": [
    "# K-FOLD"
   ]
  },
  {
   "cell_type": "code",
   "execution_count": 10,
   "metadata": {},
   "outputs": [],
   "source": [
    "from sklearn.model_selection import KFold\n",
    "from sklearn.metrics import r2_score"
   ]
  },
  {
   "cell_type": "markdown",
   "metadata": {},
   "source": [
    "### (d)"
   ]
  },
  {
   "cell_type": "markdown",
   "metadata": {},
   "source": [
    "Here we do kfold by randomly dividing the set of observations into 10 groups.This progress will find validation error. The cv.split(X_train) in the first loop gives us indexes by working in harmony with the parameter that divides it into 10 parts that we specified in the cv object. Using these indexes, we create the variables X_trainv, X_valid, Y_trainv, Y_valid. Again, we calculate the error with polynomials of different degrees. We find the degree with the smallest error."
   ]
  },
  {
   "cell_type": "code",
   "execution_count": 11,
   "metadata": {},
   "outputs": [
    {
     "data": {
      "text/html": [
       "<div>\n",
       "<style scoped>\n",
       "    .dataframe tbody tr th:only-of-type {\n",
       "        vertical-align: middle;\n",
       "    }\n",
       "\n",
       "    .dataframe tbody tr th {\n",
       "        vertical-align: top;\n",
       "    }\n",
       "\n",
       "    .dataframe thead th {\n",
       "        text-align: right;\n",
       "    }\n",
       "</style>\n",
       "<table border=\"1\" class=\"dataframe\">\n",
       "  <thead>\n",
       "    <tr style=\"text-align: right;\">\n",
       "      <th></th>\n",
       "      <th>Degree</th>\n",
       "      <th>Validation Error</th>\n",
       "    </tr>\n",
       "  </thead>\n",
       "  <tbody>\n",
       "    <tr>\n",
       "      <th>0</th>\n",
       "      <td>1</td>\n",
       "      <td>510.305462</td>\n",
       "    </tr>\n",
       "    <tr>\n",
       "      <th>1</th>\n",
       "      <td>2</td>\n",
       "      <td>625.153853</td>\n",
       "    </tr>\n",
       "    <tr>\n",
       "      <th>2</th>\n",
       "      <td>3</td>\n",
       "      <td>11.227484</td>\n",
       "    </tr>\n",
       "    <tr>\n",
       "      <th>3</th>\n",
       "      <td>4</td>\n",
       "      <td>15.718026</td>\n",
       "    </tr>\n",
       "    <tr>\n",
       "      <th>4</th>\n",
       "      <td>5</td>\n",
       "      <td>21.904355</td>\n",
       "    </tr>\n",
       "    <tr>\n",
       "      <th>5</th>\n",
       "      <td>6</td>\n",
       "      <td>29.672996</td>\n",
       "    </tr>\n",
       "    <tr>\n",
       "      <th>6</th>\n",
       "      <td>7</td>\n",
       "      <td>43.053562</td>\n",
       "    </tr>\n",
       "    <tr>\n",
       "      <th>7</th>\n",
       "      <td>8</td>\n",
       "      <td>130.560332</td>\n",
       "    </tr>\n",
       "    <tr>\n",
       "      <th>8</th>\n",
       "      <td>9</td>\n",
       "      <td>174.685205</td>\n",
       "    </tr>\n",
       "  </tbody>\n",
       "</table>\n",
       "</div>"
      ],
      "text/plain": [
       "   Degree  Validation Error\n",
       "0       1        510.305462\n",
       "1       2        625.153853\n",
       "2       3         11.227484\n",
       "3       4         15.718026\n",
       "4       5         21.904355\n",
       "5       6         29.672996\n",
       "6       7         43.053562\n",
       "7       8        130.560332\n",
       "8       9        174.685205"
      ]
     },
     "execution_count": 11,
     "metadata": {},
     "output_type": "execute_result"
    }
   ],
   "source": [
    "cv = KFold(n_splits=10, random_state=42, shuffle=True)\n",
    "CVErrors=[]\n",
    "for train_index, validation_index in cv.split(X_train):\n",
    "    X_trainv, X_valid, Y_trainv, Y_valid = X_train[train_index], X_train[validation_index], Y_train[train_index], Y_train[validation_index]\n",
    "    for j in range(1,10):\n",
    "        CVErrors.append(create_polynomial_regression_model(j))\n",
    "        df = pd.DataFrame (CVErrors,columns=['Training Error','Validation Error','Degree'])\n",
    "kfoldCV_by_degree = df.groupby(\"Degree\")\n",
    "kfoldCV_by_degree = kfoldCV_by_degree.mean()\n",
    "kfoldCV_by_degree = kfoldCV_by_degree.reset_index()\n",
    "kfoldCV_by_degree[['Degree', 'Validation Error']]"
   ]
  },
  {
   "cell_type": "code",
   "execution_count": 12,
   "metadata": {},
   "outputs": [
    {
     "data": {
      "text/plain": [
       "<matplotlib.legend.Legend at 0x1720b4a86a0>"
      ]
     },
     "execution_count": 12,
     "metadata": {},
     "output_type": "execute_result"
    },
    {
     "data": {
      "image/png": "[encoded data removed]",
      "text/plain": [
       "<Figure size 432x288 with 1 Axes>"
      ]
     },
     "metadata": {
      "needs_background": "light"
     },
     "output_type": "display_data"
    }
   ],
   "source": [
    "fig=plt.figure()\n",
    "ax = fig.add_subplot(1, 1, 1)\n",
    "ax.plot(kfoldCV_by_degree['Degree'].values,kfoldCV_by_degree['Validation Error'].values,label = '5 fold CV Error')\n",
    "ax.set_xlabel('Degree')\n",
    "ax.set_ylabel('Errors')\n",
    "ax.tick_params(axis='x', labelsize=8)\n",
    "ax.legend(loc='best')"
   ]
  },
  {
   "cell_type": "markdown",
   "metadata": {},
   "source": [
    "As can be seen 3 degree gives smallest Validation Error."
   ]
  },
  {
   "cell_type": "markdown",
   "metadata": {},
   "source": [
    "### (e)"
   ]
  },
  {
   "cell_type": "markdown",
   "metadata": {},
   "source": [
    "We created the PolynomialFeatures object and assigned it to the variable poly_features with 3 degree that has the lowest error.  We again refit our model with the degree found. With these values we computed mse and r^2 values."
   ]
  },
  {
   "cell_type": "code",
   "execution_count": 13,
   "metadata": {},
   "outputs": [
    {
     "name": "stdout",
     "output_type": "stream",
     "text": [
      "mse of test: 7.106966845948281 r^2: 0.960314546926879\n"
     ]
    }
   ],
   "source": [
    "poly_features = PolynomialFeatures(degree=3,include_bias=False)\n",
    "X_train_poly = poly_features.fit_transform(X_train)\n",
    "poly_model = LinearRegression()\n",
    "poly_model.fit(X_train_poly, Y_train)\n",
    "X_test_poly = poly_features.fit_transform(X_test)\n",
    "Y_test_predict=poly_model.predict(X_test_poly)\n",
    "\n",
    "mse_test = mean_squared_error(Y_test, Y_test_predict)\n",
    "\n",
    "r_square = r2_score(Y_test, Y_test_predict)\n",
    "print(\"mse of test:\",mse_test,\"r^2:\",r_square)"
   ]
  },
  {
   "cell_type": "markdown",
   "metadata": {},
   "source": [
    "### (f)"
   ]
  },
  {
   "cell_type": "markdown",
   "metadata": {},
   "source": [
    "As we can see the degrees of polynomials chosen with LOOCV and 5-fold cross validation are the same and it is 3."
   ]
  }
 ],
 "metadata": {
  "kernelspec": {
   "display_name": "Python 3",
   "language": "python",
   "name": "python3"
  },
  "language_info": {
   "codemirror_mode": {
    "name": "ipython",
    "version": 3
   },
   "file_extension": ".py",
   "mimetype": "text/x-python",
   "name": "python",
   "nbconvert_exporter": "python",
   "pygments_lexer": "ipython3",
   "version": "3.8.8"
  }
 },
 "nbformat": 4,
 "nbformat_minor": 4
}
